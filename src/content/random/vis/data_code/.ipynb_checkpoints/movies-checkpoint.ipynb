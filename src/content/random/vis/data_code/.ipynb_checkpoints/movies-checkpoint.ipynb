{
 "cells": [
  {
   "cell_type": "code",
   "execution_count": 147,
   "id": "697988bf-7a11-4bf9-ad21-a8d4a9e9cddc",
   "metadata": {},
   "outputs": [],
   "source": [
    "from matplotlib import pyplot as plt\n",
    "import plotly.figure_factory as ff\n",
    "import plotly.graph_objects as go\n",
    "import plotly.figure_factory as ff\n",
    "from plotly.subplots import make_subplots\n",
    "\n",
    "import itertools, os, gzip, shutil, glob\n",
    "import pandas as pd\n",
    "import numpy as np\n",
    "\n",
    "import random, string, csv\n",
    "\n",
    "%matplotlib inline"
   ]
  },
  {
   "cell_type": "code",
   "execution_count": 187,
   "id": "926bbf0f-f026-4309-923f-ec80e99c5f0e",
   "metadata": {},
   "outputs": [],
   "source": [
    "year_name_box_df = pd.DataFrame(columns=('year', 'name', 'box'))\n",
    "\n",
    "f = open(\"./year_name_box.txt\", \"r\", encoding='UTF-8')\n",
    "f_read = f.read().split(\"\\n\")\n",
    "# len(f_read) 424\n",
    "for i in range(424):\n",
    "    item = f_read[i]\n",
    "    year_name_box_df.loc[i] = [int(item.split(\"\\t\")[0]), item.split(\"\\t\")[1], float(item.split(\"\\t\")[2])]"
   ]
  },
  {
   "cell_type": "code",
   "execution_count": 190,
   "id": "43bb73df-425e-4c86-9d26-0c5d5ea55048",
   "metadata": {
    "scrolled": true
   },
   "outputs": [
    {
     "data": {
      "text/html": [
       "<div>\n",
       "<style scoped>\n",
       "    .dataframe tbody tr th:only-of-type {\n",
       "        vertical-align: middle;\n",
       "    }\n",
       "\n",
       "    .dataframe tbody tr th {\n",
       "        vertical-align: top;\n",
       "    }\n",
       "\n",
       "    .dataframe thead th {\n",
       "        text-align: right;\n",
       "    }\n",
       "</style>\n",
       "<table border=\"1\" class=\"dataframe\">\n",
       "  <thead>\n",
       "    <tr style=\"text-align: right;\">\n",
       "      <th></th>\n",
       "      <th>year</th>\n",
       "      <th>name</th>\n",
       "      <th>box</th>\n",
       "    </tr>\n",
       "  </thead>\n",
       "  <tbody>\n",
       "    <tr>\n",
       "      <th>0</th>\n",
       "      <td>2015</td>\n",
       "      <td>捉妖记</td>\n",
       "      <td>24.36</td>\n",
       "    </tr>\n",
       "    <tr>\n",
       "      <th>1</th>\n",
       "      <td>2015</td>\n",
       "      <td>寻龙诀</td>\n",
       "      <td>16.79</td>\n",
       "    </tr>\n",
       "    <tr>\n",
       "      <th>2</th>\n",
       "      <td>2015</td>\n",
       "      <td>港囧</td>\n",
       "      <td>16.11</td>\n",
       "    </tr>\n",
       "    <tr>\n",
       "      <th>3</th>\n",
       "      <td>2015</td>\n",
       "      <td>夏洛特烦恼</td>\n",
       "      <td>14.44</td>\n",
       "    </tr>\n",
       "    <tr>\n",
       "      <th>4</th>\n",
       "      <td>2015</td>\n",
       "      <td>煎饼侠</td>\n",
       "      <td>11.60</td>\n",
       "    </tr>\n",
       "    <tr>\n",
       "      <th>...</th>\n",
       "      <td>...</td>\n",
       "      <td>...</td>\n",
       "      <td>...</td>\n",
       "    </tr>\n",
       "    <tr>\n",
       "      <th>419</th>\n",
       "      <td>2025</td>\n",
       "      <td>猎金游戏</td>\n",
       "      <td>2.98</td>\n",
       "    </tr>\n",
       "    <tr>\n",
       "      <th>420</th>\n",
       "      <td>2025</td>\n",
       "      <td>向阳花</td>\n",
       "      <td>2.30</td>\n",
       "    </tr>\n",
       "    <tr>\n",
       "      <th>421</th>\n",
       "      <td>2025</td>\n",
       "      <td>时间之子</td>\n",
       "      <td>1.87</td>\n",
       "    </tr>\n",
       "    <tr>\n",
       "      <th>422</th>\n",
       "      <td>2025</td>\n",
       "      <td>不说话的爱</td>\n",
       "      <td>1.44</td>\n",
       "    </tr>\n",
       "    <tr>\n",
       "      <th>423</th>\n",
       "      <td>2025</td>\n",
       "      <td>人生开门红</td>\n",
       "      <td>1.39</td>\n",
       "    </tr>\n",
       "  </tbody>\n",
       "</table>\n",
       "<p>424 rows × 3 columns</p>\n",
       "</div>"
      ],
      "text/plain": [
       "     year   name    box\n",
       "0    2015    捉妖记  24.36\n",
       "1    2015    寻龙诀  16.79\n",
       "2    2015     港囧  16.11\n",
       "3    2015  夏洛特烦恼  14.44\n",
       "4    2015    煎饼侠  11.60\n",
       "..    ...    ...    ...\n",
       "419  2025   猎金游戏   2.98\n",
       "420  2025    向阳花   2.30\n",
       "421  2025   时间之子   1.87\n",
       "422  2025  不说话的爱   1.44\n",
       "423  2025  人生开门红   1.39\n",
       "\n",
       "[424 rows x 3 columns]"
      ]
     },
     "execution_count": 190,
     "metadata": {},
     "output_type": "execute_result"
    }
   ],
   "source": [
    "year_name_box_df#.dtypes"
   ]
  },
  {
   "cell_type": "code",
   "execution_count": 206,
   "id": "1a2256e3-be08-4e1f-b0a0-20a7a53ab1f6",
   "metadata": {},
   "outputs": [],
   "source": [
    "fig = go.Figure()\n",
    "\n",
    "for year in list(range(2015, 2026)):\n",
    "    year_df = year_name_box_df[(year_name_box_df[\"year\"] == year) & (year_name_box_df[\"box\"]<=20)]\n",
    "    fig.add_trace(go.Box(\n",
    "        y=year_df[\"box\"].tolist(),\n",
    "        name=str(year),\n",
    "        boxpoints='all',\n",
    "        jitter=0.4,\n",
    "        pointpos=0,\n",
    "        marker=dict(size=6, color='rgba(128,128,128,0.4)'), \n",
    "        line=dict(width=0),\n",
    "        fillcolor='rgba(0,0,0,0)',\n",
    "        showlegend=False\n",
    "        ))\n",
    "\n",
    "    if not year_df.empty:\n",
    "        top_row = year_df.loc[year_df[\"box\"].idxmax()]\n",
    "        vertical_name = \"<br>\".join(top_row[\"name\"])\n",
    "        fig.add_trace(go.Scatter(\n",
    "            x=[str(year)],\n",
    "            y=[top_row[\"box\"]],\n",
    "            mode='markers+text',\n",
    "            marker=dict(size=14, color='red', symbol='circle-open'),\n",
    "            text=[vertical_name ],\n",
    "            textposition=\"middle left\",\n",
    "            showlegend=False  \n",
    "        ))\n",
    "\n",
    "fig.update_layout(\n",
    "    yaxis=dict(\n",
    "        title=\"票房（亿）\",\n",
    "        tickfont=dict(size=12),\n",
    "        titlefont=dict(size=14),\n",
    "    ),\n",
    "    xaxis=dict(\n",
    "        title=\"年份\",\n",
    "        tickfont=dict(size=12),\n",
    "        titlefont=dict(size=14),\n",
    "    ),\n",
    "    plot_bgcolor=\"white\",\n",
    "    width=500,\n",
    "    height=1200\n",
    ")\n",
    "\n",
    "fig.write_image(\"year_name_box1.svg\")"
   ]
  },
  {
   "cell_type": "code",
   "execution_count": null,
   "id": "f74781b0-9d5f-4ffb-8b2d-8717af7b89a4",
   "metadata": {},
   "outputs": [],
   "source": []
  },
  {
   "cell_type": "code",
   "execution_count": null,
   "id": "8d9ba040-7902-44b9-a79a-dc5272ad450c",
   "metadata": {},
   "outputs": [],
   "source": []
  },
  {
   "cell_type": "code",
   "execution_count": null,
   "id": "eca817dc-f4af-427a-8329-4711dfae1a4c",
   "metadata": {},
   "outputs": [],
   "source": []
  },
  {
   "cell_type": "code",
   "execution_count": null,
   "id": "e7956bfe-0c16-4d7c-b296-ecb8b407c5a7",
   "metadata": {},
   "outputs": [],
   "source": []
  },
  {
   "cell_type": "code",
   "execution_count": null,
   "id": "83df023a-6f64-4978-be3e-371a07d5d1e5",
   "metadata": {},
   "outputs": [],
   "source": []
  },
  {
   "cell_type": "code",
   "execution_count": null,
   "id": "8dccf5a7-3b7c-40c2-b1af-f1e4aebc1a9a",
   "metadata": {},
   "outputs": [],
   "source": []
  },
  {
   "cell_type": "code",
   "execution_count": 197,
   "id": "0784b24e-5a8f-4fec-a170-f291f7ac9065",
   "metadata": {},
   "outputs": [
    {
     "data": {
      "text/html": [
       "<div>\n",
       "<style scoped>\n",
       "    .dataframe tbody tr th:only-of-type {\n",
       "        vertical-align: middle;\n",
       "    }\n",
       "\n",
       "    .dataframe tbody tr th {\n",
       "        vertical-align: top;\n",
       "    }\n",
       "\n",
       "    .dataframe thead th {\n",
       "        text-align: right;\n",
       "    }\n",
       "</style>\n",
       "<table border=\"1\" class=\"dataframe\">\n",
       "  <thead>\n",
       "    <tr style=\"text-align: right;\">\n",
       "      <th></th>\n",
       "      <th>year</th>\n",
       "      <th>name</th>\n",
       "      <th>box</th>\n",
       "    </tr>\n",
       "  </thead>\n",
       "  <tbody>\n",
       "    <tr>\n",
       "      <th>413</th>\n",
       "      <td>2025</td>\n",
       "      <td>封神第二部</td>\n",
       "      <td>12.38</td>\n",
       "    </tr>\n",
       "    <tr>\n",
       "      <th>414</th>\n",
       "      <td>2025</td>\n",
       "      <td>熊出没重启未来</td>\n",
       "      <td>8.21</td>\n",
       "    </tr>\n",
       "    <tr>\n",
       "      <th>415</th>\n",
       "      <td>2025</td>\n",
       "      <td>射雕英雄传侠之大者</td>\n",
       "      <td>6.89</td>\n",
       "    </tr>\n",
       "    <tr>\n",
       "      <th>416</th>\n",
       "      <td>2025</td>\n",
       "      <td>水饺皇后</td>\n",
       "      <td>4.19</td>\n",
       "    </tr>\n",
       "    <tr>\n",
       "      <th>417</th>\n",
       "      <td>2025</td>\n",
       "      <td>蛟龙行动</td>\n",
       "      <td>3.93</td>\n",
       "    </tr>\n",
       "    <tr>\n",
       "      <th>418</th>\n",
       "      <td>2025</td>\n",
       "      <td>酱园弄悬案</td>\n",
       "      <td>3.59</td>\n",
       "    </tr>\n",
       "    <tr>\n",
       "      <th>419</th>\n",
       "      <td>2025</td>\n",
       "      <td>猎金游戏</td>\n",
       "      <td>2.98</td>\n",
       "    </tr>\n",
       "    <tr>\n",
       "      <th>420</th>\n",
       "      <td>2025</td>\n",
       "      <td>向阳花</td>\n",
       "      <td>2.30</td>\n",
       "    </tr>\n",
       "    <tr>\n",
       "      <th>421</th>\n",
       "      <td>2025</td>\n",
       "      <td>时间之子</td>\n",
       "      <td>1.87</td>\n",
       "    </tr>\n",
       "    <tr>\n",
       "      <th>422</th>\n",
       "      <td>2025</td>\n",
       "      <td>不说话的爱</td>\n",
       "      <td>1.44</td>\n",
       "    </tr>\n",
       "    <tr>\n",
       "      <th>423</th>\n",
       "      <td>2025</td>\n",
       "      <td>人生开门红</td>\n",
       "      <td>1.39</td>\n",
       "    </tr>\n",
       "  </tbody>\n",
       "</table>\n",
       "</div>"
      ],
      "text/plain": [
       "     year       name    box\n",
       "413  2025      封神第二部  12.38\n",
       "414  2025    熊出没重启未来   8.21\n",
       "415  2025  射雕英雄传侠之大者   6.89\n",
       "416  2025       水饺皇后   4.19\n",
       "417  2025       蛟龙行动   3.93\n",
       "418  2025      酱园弄悬案   3.59\n",
       "419  2025       猎金游戏   2.98\n",
       "420  2025        向阳花   2.30\n",
       "421  2025       时间之子   1.87\n",
       "422  2025      不说话的爱   1.44\n",
       "423  2025      人生开门红   1.39"
      ]
     },
     "execution_count": 197,
     "metadata": {},
     "output_type": "execute_result"
    }
   ],
   "source": [
    "year_name_box_df[(year_name_box_df[\"year\"]==year) & (year_name_box_df[\"box\"]<=20)]"
   ]
  },
  {
   "cell_type": "code",
   "execution_count": null,
   "id": "7f5fec5a-846e-4191-a972-e807ae3ad354",
   "metadata": {},
   "outputs": [],
   "source": []
  },
  {
   "cell_type": "markdown",
   "id": "56f3d9e8-c0d9-4d65-b3ba-b16874269e6b",
   "metadata": {},
   "source": [
    "### 姜文"
   ]
  },
  {
   "cell_type": "code",
   "execution_count": 4,
   "id": "260f9d8b-f6fb-400d-b08d-5ad427e1a173",
   "metadata": {},
   "outputs": [],
   "source": [
    "# jiangwen\n",
    "Y2010box = [6.5, 6.36, 4.17, 2.86, 2.30, 1.95, 1.57, 1.51, 1.44, 1.40, 1.30, 1.26, 1.24]\n",
    "Y2014box = [19.76, 11.69, 10.44, 8.83, 6.69, 6.65, 6.28, 5.88, 5.24, 5.21, 5.13, 4.55, 4.12, 4.06, 3.89, 3.44, 3.08, 2.91, 2.84, 2.73, 2.47, 2.30,\n",
    "            2.28, 2.08, 2.04, 2.04, 1.98, 1.95, 1.92, 1.86, 1.84, 1.61, 1.42, 1.29, 1.25, 1.19, 1.18, 1.18, 1.04, 1]\n",
    "Y2018box = [36.52, 33.97, 31, 25.47, 23.9, 22.37, 20.13, 18.7, 16.95, 13.96, 13.61, 13.55, 12.73, 12.45, 10.53, 9.03, 8.31, 7.94, 7.54, 7.47, 7.27,\n",
    "            6.69, 6.62, 6.41, 6.33, 6.28, 6.06, 6.05, 6.04, 5.83, 5.55, 5.09, 4.97, 4.91, 4.80, 4.42, 4.27, 3.98, 3.75, 3.58, 3.57, 3.54, 3.17, 3.15,\n",
    "            2.85, 2.85, 2.82, 2.71, 2.67, 2.61, 2.34, 2.2, 2.16, 2.1, 2.09, 2.03, 1.91, 1.73, 1.72, 1.69, 1.68, 1.58, 1.53, 1.5, 1.49, 1.46, 1.31, 1.3,\n",
    "            1.27, 1.23, 1.14, 1.12, 1.12, 1.1, 1.06, 1.05, 1.04, 1.01, 1.01, 1]"
   ]
  },
  {
   "cell_type": "code",
   "execution_count": 83,
   "id": "aeb1a9e4-c744-49f2-a5e1-98fc72e936a4",
   "metadata": {},
   "outputs": [
    {
     "data": {
      "text/plain": [
       "(27, 27, 27, 27)"
      ]
     },
     "execution_count": 83,
     "metadata": {},
     "output_type": "execute_result"
    }
   ],
   "source": [
    "years = np.arange(1999, 2026)\n",
    "movies = [np.nan, \"鬼子来了\",      np.nan,         \"寻枪\", np.nan,    np.nan, np.nan,\n",
    "            np.nan, \"太阳照常升起\",   \"纽约我爱你\", np.nan, \"让子弹飞\", np.nan,\n",
    "            np.nan,       np.nan,      \"一步之遥\", np.nan,    np.nan, np.nan, \n",
    "          \"邪不压正\", np.nan, np.nan, np.nan, np.nan, np.nan, np.nan, np.nan]\n",
    "\n",
    "people = [np.nan,692392,      np.nan,     132038, np.nan,   np.nan, np.nan,\n",
    "            np.nan, 331343,   101810, np.nan, 1867748, np.nan,\n",
    "            np.nan,       np.nan, 324172, np.nan,   np.nan, np.nan, \n",
    "          730326, np.nan, np.nan, np.nan, np.nan, np.nan, np.nan, np.nan]\n",
    "#bar_txt = [\" \",\"69万\",      \" \",     \"13万\", \" \",   \" \", \" \",\n",
    "          #   \" \", \"33万\",   \"10.2万\", \" \", \"187万\", \" \",\n",
    "          #   \" \",       \" \", \"32.4万\", \" \",   \" \", \" \", \n",
    "          # \"73万\", \" \", \" \", \" \", \" \", \" \", \" \", \" \"]\n",
    "scores = [np.nan,9.3,      np.nan,         7.8, np.nan,    np.nan, np.nan,\n",
    "            np.nan, 8.4,   7.6, np.nan, 9, np.nan,\n",
    "            np.nan,       np.nan,      6.7, np.nan,    np.nan, np.nan, \n",
    "          7, np.nan, np.nan, np.nan, np.nan, np.nan, np.nan, np.nan]\n",
    "len(years), len(movies), len(people), len(scores)"
   ]
  },
  {
   "cell_type": "code",
   "execution_count": 137,
   "id": "2927f2e6-a2e3-4b8a-82d0-bdf78f5be6ac",
   "metadata": {},
   "outputs": [
    {
     "data": {
      "application/vnd.plotly.v1+json": {
       "config": {
        "plotlyServerURL": "https://plot.ly"
       },
       "data": [
        {
         "name": "打分人数",
         "opacity": 0.4,
         "type": "bar",
         "x": [
          1999,
          2000,
          2001,
          2002,
          2003,
          2004,
          2005,
          2006,
          2007,
          2008,
          2009,
          2010,
          2011,
          2012,
          2013,
          2014,
          2015,
          2016,
          2017,
          2018,
          2019,
          2020,
          2021,
          2022,
          2023,
          2024,
          2025
         ],
         "xaxis": "x",
         "y": [
          null,
          692392,
          null,
          132038,
          null,
          null,
          null,
          null,
          331343,
          101810,
          null,
          1867748,
          null,
          null,
          null,
          324172,
          null,
          null,
          null,
          730326,
          null,
          null,
          null,
          null,
          null,
          null,
          null
         ],
         "yaxis": "y"
        },
        {
         "connectgaps": true,
         "marker": {
          "size": 10
         },
         "mode": "lines+markers",
         "name": "豆瓣分数",
         "type": "scatter",
         "x": [
          1999,
          2000,
          2001,
          2002,
          2003,
          2004,
          2005,
          2006,
          2007,
          2008,
          2009,
          2010,
          2011,
          2012,
          2013,
          2014,
          2015,
          2016,
          2017,
          2018,
          2019,
          2020,
          2021,
          2022,
          2023,
          2024,
          2025
         ],
         "xaxis": "x",
         "y": [
          null,
          9.3,
          null,
          7.8,
          null,
          null,
          null,
          null,
          8.4,
          7.6,
          null,
          9,
          null,
          null,
          null,
          6.7,
          null,
          null,
          null,
          7,
          null,
          null,
          null,
          null,
          null,
          null,
          null
         ],
         "yaxis": "y2"
        }
       ],
       "layout": {
        "annotations": [
         {
          "font": {
           "color": "black",
           "size": 11
          },
          "showarrow": false,
          "text": "9.0 分",
          "x": 0.9,
          "xanchor": "left",
          "xref": "paper",
          "y": 8.9,
          "yanchor": "bottom",
          "yref": "y2"
         },
         {
          "font": {
           "color": "black",
           "size": 11
          },
          "showarrow": false,
          "text": "8.0 分",
          "x": 0.9,
          "xanchor": "left",
          "xref": "paper",
          "y": 7.9,
          "yanchor": "bottom",
          "yref": "y2"
         },
         {
          "font": {
           "color": "black",
           "size": 11
          },
          "showarrow": false,
          "text": "7.0 分",
          "x": 0.9,
          "xanchor": "left",
          "xref": "paper",
          "y": 6.9,
          "yanchor": "bottom",
          "yref": "y2"
         },
         {
          "font": {
           "color": "black",
           "size": 11
          },
          "showarrow": false,
          "text": "6.5 分",
          "x": 0.9,
          "xanchor": "left",
          "xref": "paper",
          "y": 6.4,
          "yanchor": "bottom",
          "yref": "y2"
         },
         {
          "font": {
           "color": "black",
           "size": 15
          },
          "showarrow": false,
          "text": "鬼子来了",
          "x": 2000,
          "xanchor": "center",
          "xref": "x",
          "y": 9.3,
          "yanchor": "bottom",
          "yref": "y2",
          "yshift": 5
         },
         {
          "font": {
           "color": "black",
           "size": 15
          },
          "showarrow": false,
          "text": "寻枪",
          "x": 2002,
          "xanchor": "center",
          "xref": "x",
          "y": 7.8,
          "yanchor": "top",
          "yref": "y2",
          "yshift": -5
         },
         {
          "font": {
           "color": "black",
           "size": 15
          },
          "showarrow": false,
          "text": "太阳照常升起",
          "x": 2007,
          "xanchor": "center",
          "xref": "x",
          "y": 8.4,
          "yanchor": "bottom",
          "yref": "y2",
          "yshift": 5
         },
         {
          "font": {
           "color": "black",
           "size": 15
          },
          "showarrow": false,
          "text": "纽约,我爱你",
          "x": 2008,
          "xanchor": "center",
          "xref": "x",
          "y": 7.6,
          "yanchor": "top",
          "yref": "y2",
          "yshift": -5
         },
         {
          "font": {
           "color": "black",
           "size": 15
          },
          "showarrow": false,
          "text": "让子弹飞",
          "x": 2010,
          "xanchor": "center",
          "xref": "x",
          "y": 9,
          "yanchor": "bottom",
          "yref": "y2",
          "yshift": 5
         },
         {
          "font": {
           "color": "black",
           "size": 15
          },
          "showarrow": false,
          "text": "一步之遥",
          "x": 2014,
          "xanchor": "center",
          "xref": "x",
          "y": 6.7,
          "yanchor": "top",
          "yref": "y2",
          "yshift": -5
         },
         {
          "font": {
           "color": "black",
           "size": 15
          },
          "showarrow": false,
          "text": "邪不压正",
          "x": 2018,
          "xanchor": "center",
          "xref": "x",
          "y": 7,
          "yanchor": "bottom",
          "yref": "y2",
          "yshift": 5
         },
         {
          "font": {
           "color": "grey",
           "size": 14
          },
          "showarrow": false,
          "text": "打分人数",
          "x": -0.05,
          "xanchor": "left",
          "xref": "paper",
          "y": 1,
          "yanchor": "bottom",
          "yref": "paper"
         }
        ],
        "autosize": false,
        "height": 800,
        "legend": {
         "bgcolor": "rgba(255,255,255,0)",
         "borderwidth": 0,
         "font": {
          "size": 12
         },
         "x": 1,
         "xanchor": "right",
         "y": 1,
         "yanchor": "top"
        },
        "margin": {
         "autoexpand": false,
         "l": 100,
         "r": 20,
         "t": 110
        },
        "plot_bgcolor": "white",
        "shapes": [
         {
          "line": {
           "color": "black",
           "dash": "dash",
           "width": 1
          },
          "type": "line",
          "x0": 0,
          "x1": 1,
          "xref": "paper",
          "y0": 9,
          "y1": 9,
          "yref": "y2"
         },
         {
          "line": {
           "color": "black",
           "dash": "dash",
           "width": 1
          },
          "type": "line",
          "x0": 0,
          "x1": 1,
          "xref": "paper",
          "y0": 8,
          "y1": 8,
          "yref": "y2"
         },
         {
          "line": {
           "color": "black",
           "dash": "dash",
           "width": 1
          },
          "type": "line",
          "x0": 0,
          "x1": 1,
          "xref": "paper",
          "y0": 7,
          "y1": 7,
          "yref": "y2"
         },
         {
          "line": {
           "color": "black",
           "dash": "dash",
           "width": 1
          },
          "type": "line",
          "x0": 0,
          "x1": 1,
          "xref": "paper",
          "y0": 6.5,
          "y1": 6.5,
          "yref": "y2"
         }
        ],
        "showlegend": true,
        "template": {
         "data": {
          "bar": [
           {
            "error_x": {
             "color": "#2a3f5f"
            },
            "error_y": {
             "color": "#2a3f5f"
            },
            "marker": {
             "line": {
              "color": "#E5ECF6",
              "width": 0.5
             },
             "pattern": {
              "fillmode": "overlay",
              "size": 10,
              "solidity": 0.2
             }
            },
            "type": "bar"
           }
          ],
          "barpolar": [
           {
            "marker": {
             "line": {
              "color": "#E5ECF6",
              "width": 0.5
             },
             "pattern": {
              "fillmode": "overlay",
              "size": 10,
              "solidity": 0.2
             }
            },
            "type": "barpolar"
           }
          ],
          "carpet": [
           {
            "aaxis": {
             "endlinecolor": "#2a3f5f",
             "gridcolor": "white",
             "linecolor": "white",
             "minorgridcolor": "white",
             "startlinecolor": "#2a3f5f"
            },
            "baxis": {
             "endlinecolor": "#2a3f5f",
             "gridcolor": "white",
             "linecolor": "white",
             "minorgridcolor": "white",
             "startlinecolor": "#2a3f5f"
            },
            "type": "carpet"
           }
          ],
          "choropleth": [
           {
            "colorbar": {
             "outlinewidth": 0,
             "ticks": ""
            },
            "type": "choropleth"
           }
          ],
          "contour": [
           {
            "colorbar": {
             "outlinewidth": 0,
             "ticks": ""
            },
            "colorscale": [
             [
              0,
              "#0d0887"
             ],
             [
              0.1111111111111111,
              "#46039f"
             ],
             [
              0.2222222222222222,
              "#7201a8"
             ],
             [
              0.3333333333333333,
              "#9c179e"
             ],
             [
              0.4444444444444444,
              "#bd3786"
             ],
             [
              0.5555555555555556,
              "#d8576b"
             ],
             [
              0.6666666666666666,
              "#ed7953"
             ],
             [
              0.7777777777777778,
              "#fb9f3a"
             ],
             [
              0.8888888888888888,
              "#fdca26"
             ],
             [
              1,
              "#f0f921"
             ]
            ],
            "type": "contour"
           }
          ],
          "contourcarpet": [
           {
            "colorbar": {
             "outlinewidth": 0,
             "ticks": ""
            },
            "type": "contourcarpet"
           }
          ],
          "heatmap": [
           {
            "colorbar": {
             "outlinewidth": 0,
             "ticks": ""
            },
            "colorscale": [
             [
              0,
              "#0d0887"
             ],
             [
              0.1111111111111111,
              "#46039f"
             ],
             [
              0.2222222222222222,
              "#7201a8"
             ],
             [
              0.3333333333333333,
              "#9c179e"
             ],
             [
              0.4444444444444444,
              "#bd3786"
             ],
             [
              0.5555555555555556,
              "#d8576b"
             ],
             [
              0.6666666666666666,
              "#ed7953"
             ],
             [
              0.7777777777777778,
              "#fb9f3a"
             ],
             [
              0.8888888888888888,
              "#fdca26"
             ],
             [
              1,
              "#f0f921"
             ]
            ],
            "type": "heatmap"
           }
          ],
          "heatmapgl": [
           {
            "colorbar": {
             "outlinewidth": 0,
             "ticks": ""
            },
            "colorscale": [
             [
              0,
              "#0d0887"
             ],
             [
              0.1111111111111111,
              "#46039f"
             ],
             [
              0.2222222222222222,
              "#7201a8"
             ],
             [
              0.3333333333333333,
              "#9c179e"
             ],
             [
              0.4444444444444444,
              "#bd3786"
             ],
             [
              0.5555555555555556,
              "#d8576b"
             ],
             [
              0.6666666666666666,
              "#ed7953"
             ],
             [
              0.7777777777777778,
              "#fb9f3a"
             ],
             [
              0.8888888888888888,
              "#fdca26"
             ],
             [
              1,
              "#f0f921"
             ]
            ],
            "type": "heatmapgl"
           }
          ],
          "histogram": [
           {
            "marker": {
             "pattern": {
              "fillmode": "overlay",
              "size": 10,
              "solidity": 0.2
             }
            },
            "type": "histogram"
           }
          ],
          "histogram2d": [
           {
            "colorbar": {
             "outlinewidth": 0,
             "ticks": ""
            },
            "colorscale": [
             [
              0,
              "#0d0887"
             ],
             [
              0.1111111111111111,
              "#46039f"
             ],
             [
              0.2222222222222222,
              "#7201a8"
             ],
             [
              0.3333333333333333,
              "#9c179e"
             ],
             [
              0.4444444444444444,
              "#bd3786"
             ],
             [
              0.5555555555555556,
              "#d8576b"
             ],
             [
              0.6666666666666666,
              "#ed7953"
             ],
             [
              0.7777777777777778,
              "#fb9f3a"
             ],
             [
              0.8888888888888888,
              "#fdca26"
             ],
             [
              1,
              "#f0f921"
             ]
            ],
            "type": "histogram2d"
           }
          ],
          "histogram2dcontour": [
           {
            "colorbar": {
             "outlinewidth": 0,
             "ticks": ""
            },
            "colorscale": [
             [
              0,
              "#0d0887"
             ],
             [
              0.1111111111111111,
              "#46039f"
             ],
             [
              0.2222222222222222,
              "#7201a8"
             ],
             [
              0.3333333333333333,
              "#9c179e"
             ],
             [
              0.4444444444444444,
              "#bd3786"
             ],
             [
              0.5555555555555556,
              "#d8576b"
             ],
             [
              0.6666666666666666,
              "#ed7953"
             ],
             [
              0.7777777777777778,
              "#fb9f3a"
             ],
             [
              0.8888888888888888,
              "#fdca26"
             ],
             [
              1,
              "#f0f921"
             ]
            ],
            "type": "histogram2dcontour"
           }
          ],
          "mesh3d": [
           {
            "colorbar": {
             "outlinewidth": 0,
             "ticks": ""
            },
            "type": "mesh3d"
           }
          ],
          "parcoords": [
           {
            "line": {
             "colorbar": {
              "outlinewidth": 0,
              "ticks": ""
             }
            },
            "type": "parcoords"
           }
          ],
          "pie": [
           {
            "automargin": true,
            "type": "pie"
           }
          ],
          "scatter": [
           {
            "fillpattern": {
             "fillmode": "overlay",
             "size": 10,
             "solidity": 0.2
            },
            "type": "scatter"
           }
          ],
          "scatter3d": [
           {
            "line": {
             "colorbar": {
              "outlinewidth": 0,
              "ticks": ""
             }
            },
            "marker": {
             "colorbar": {
              "outlinewidth": 0,
              "ticks": ""
             }
            },
            "type": "scatter3d"
           }
          ],
          "scattercarpet": [
           {
            "marker": {
             "colorbar": {
              "outlinewidth": 0,
              "ticks": ""
             }
            },
            "type": "scattercarpet"
           }
          ],
          "scattergeo": [
           {
            "marker": {
             "colorbar": {
              "outlinewidth": 0,
              "ticks": ""
             }
            },
            "type": "scattergeo"
           }
          ],
          "scattergl": [
           {
            "marker": {
             "colorbar": {
              "outlinewidth": 0,
              "ticks": ""
             }
            },
            "type": "scattergl"
           }
          ],
          "scattermapbox": [
           {
            "marker": {
             "colorbar": {
              "outlinewidth": 0,
              "ticks": ""
             }
            },
            "type": "scattermapbox"
           }
          ],
          "scatterpolar": [
           {
            "marker": {
             "colorbar": {
              "outlinewidth": 0,
              "ticks": ""
             }
            },
            "type": "scatterpolar"
           }
          ],
          "scatterpolargl": [
           {
            "marker": {
             "colorbar": {
              "outlinewidth": 0,
              "ticks": ""
             }
            },
            "type": "scatterpolargl"
           }
          ],
          "scatterternary": [
           {
            "marker": {
             "colorbar": {
              "outlinewidth": 0,
              "ticks": ""
             }
            },
            "type": "scatterternary"
           }
          ],
          "surface": [
           {
            "colorbar": {
             "outlinewidth": 0,
             "ticks": ""
            },
            "colorscale": [
             [
              0,
              "#0d0887"
             ],
             [
              0.1111111111111111,
              "#46039f"
             ],
             [
              0.2222222222222222,
              "#7201a8"
             ],
             [
              0.3333333333333333,
              "#9c179e"
             ],
             [
              0.4444444444444444,
              "#bd3786"
             ],
             [
              0.5555555555555556,
              "#d8576b"
             ],
             [
              0.6666666666666666,
              "#ed7953"
             ],
             [
              0.7777777777777778,
              "#fb9f3a"
             ],
             [
              0.8888888888888888,
              "#fdca26"
             ],
             [
              1,
              "#f0f921"
             ]
            ],
            "type": "surface"
           }
          ],
          "table": [
           {
            "cells": {
             "fill": {
              "color": "#EBF0F8"
             },
             "line": {
              "color": "white"
             }
            },
            "header": {
             "fill": {
              "color": "#C8D4E3"
             },
             "line": {
              "color": "white"
             }
            },
            "type": "table"
           }
          ]
         },
         "layout": {
          "annotationdefaults": {
           "arrowcolor": "#2a3f5f",
           "arrowhead": 0,
           "arrowwidth": 1
          },
          "autotypenumbers": "strict",
          "coloraxis": {
           "colorbar": {
            "outlinewidth": 0,
            "ticks": ""
           }
          },
          "colorscale": {
           "diverging": [
            [
             0,
             "#8e0152"
            ],
            [
             0.1,
             "#c51b7d"
            ],
            [
             0.2,
             "#de77ae"
            ],
            [
             0.3,
             "#f1b6da"
            ],
            [
             0.4,
             "#fde0ef"
            ],
            [
             0.5,
             "#f7f7f7"
            ],
            [
             0.6,
             "#e6f5d0"
            ],
            [
             0.7,
             "#b8e186"
            ],
            [
             0.8,
             "#7fbc41"
            ],
            [
             0.9,
             "#4d9221"
            ],
            [
             1,
             "#276419"
            ]
           ],
           "sequential": [
            [
             0,
             "#0d0887"
            ],
            [
             0.1111111111111111,
             "#46039f"
            ],
            [
             0.2222222222222222,
             "#7201a8"
            ],
            [
             0.3333333333333333,
             "#9c179e"
            ],
            [
             0.4444444444444444,
             "#bd3786"
            ],
            [
             0.5555555555555556,
             "#d8576b"
            ],
            [
             0.6666666666666666,
             "#ed7953"
            ],
            [
             0.7777777777777778,
             "#fb9f3a"
            ],
            [
             0.8888888888888888,
             "#fdca26"
            ],
            [
             1,
             "#f0f921"
            ]
           ],
           "sequentialminus": [
            [
             0,
             "#0d0887"
            ],
            [
             0.1111111111111111,
             "#46039f"
            ],
            [
             0.2222222222222222,
             "#7201a8"
            ],
            [
             0.3333333333333333,
             "#9c179e"
            ],
            [
             0.4444444444444444,
             "#bd3786"
            ],
            [
             0.5555555555555556,
             "#d8576b"
            ],
            [
             0.6666666666666666,
             "#ed7953"
            ],
            [
             0.7777777777777778,
             "#fb9f3a"
            ],
            [
             0.8888888888888888,
             "#fdca26"
            ],
            [
             1,
             "#f0f921"
            ]
           ]
          },
          "colorway": [
           "#636efa",
           "#EF553B",
           "#00cc96",
           "#ab63fa",
           "#FFA15A",
           "#19d3f3",
           "#FF6692",
           "#B6E880",
           "#FF97FF",
           "#FECB52"
          ],
          "font": {
           "color": "#2a3f5f"
          },
          "geo": {
           "bgcolor": "white",
           "lakecolor": "white",
           "landcolor": "#E5ECF6",
           "showlakes": true,
           "showland": true,
           "subunitcolor": "white"
          },
          "hoverlabel": {
           "align": "left"
          },
          "hovermode": "closest",
          "mapbox": {
           "style": "light"
          },
          "paper_bgcolor": "white",
          "plot_bgcolor": "#E5ECF6",
          "polar": {
           "angularaxis": {
            "gridcolor": "white",
            "linecolor": "white",
            "ticks": ""
           },
           "bgcolor": "#E5ECF6",
           "radialaxis": {
            "gridcolor": "white",
            "linecolor": "white",
            "ticks": ""
           }
          },
          "scene": {
           "xaxis": {
            "backgroundcolor": "#E5ECF6",
            "gridcolor": "white",
            "gridwidth": 2,
            "linecolor": "white",
            "showbackground": true,
            "ticks": "",
            "zerolinecolor": "white"
           },
           "yaxis": {
            "backgroundcolor": "#E5ECF6",
            "gridcolor": "white",
            "gridwidth": 2,
            "linecolor": "white",
            "showbackground": true,
            "ticks": "",
            "zerolinecolor": "white"
           },
           "zaxis": {
            "backgroundcolor": "#E5ECF6",
            "gridcolor": "white",
            "gridwidth": 2,
            "linecolor": "white",
            "showbackground": true,
            "ticks": "",
            "zerolinecolor": "white"
           }
          },
          "shapedefaults": {
           "line": {
            "color": "#2a3f5f"
           }
          },
          "ternary": {
           "aaxis": {
            "gridcolor": "white",
            "linecolor": "white",
            "ticks": ""
           },
           "baxis": {
            "gridcolor": "white",
            "linecolor": "white",
            "ticks": ""
           },
           "bgcolor": "#E5ECF6",
           "caxis": {
            "gridcolor": "white",
            "linecolor": "white",
            "ticks": ""
           }
          },
          "title": {
           "x": 0.05
          },
          "xaxis": {
           "automargin": true,
           "gridcolor": "white",
           "linecolor": "white",
           "ticks": "",
           "title": {
            "standoff": 15
           },
           "zerolinecolor": "white",
           "zerolinewidth": 2
          },
          "yaxis": {
           "automargin": true,
           "gridcolor": "white",
           "linecolor": "white",
           "ticks": "",
           "title": {
            "standoff": 15
           },
           "zerolinecolor": "white",
           "zerolinewidth": 2
          }
         }
        },
        "width": 800,
        "xaxis": {
         "anchor": "y",
         "autorange": true,
         "domain": [
          0,
          0.94
         ],
         "linecolor": "rgb(204, 204, 204)",
         "linewidth": 2,
         "range": [
          1997.2347276022601,
          2026.7652723977399
         ],
         "showgrid": false,
         "showline": true,
         "showticklabels": true,
         "tickfont": {
          "color": "rgb(82, 82, 82)",
          "family": "Arial",
          "size": 12
         },
         "tickmode": "array",
         "ticks": "outside",
         "ticktext": [
          "1999",
          "2000",
          "2001",
          "2002",
          "2003",
          "2004",
          "2005",
          "2006",
          "2007",
          "2008",
          "2009",
          "2010",
          "2011",
          "2012",
          "2013",
          "2014",
          "2015",
          "2016",
          "2017",
          "2018",
          "2019",
          "2020",
          "2021",
          "2022",
          "2023",
          "2024",
          "2025"
         ],
         "tickvals": [
          1999,
          2000,
          2001,
          2002,
          2003,
          2004,
          2005,
          2006,
          2007,
          2008,
          2009,
          2010,
          2011,
          2012,
          2013,
          2014,
          2015,
          2016,
          2017,
          2018,
          2019,
          2020,
          2021,
          2022,
          2023,
          2024,
          2025
         ],
         "type": "linear"
        },
        "yaxis": {
         "anchor": "x",
         "autorange": true,
         "domain": [
          0,
          1
         ],
         "linecolor": "rgb(204, 204, 204)",
         "linewidth": 2,
         "range": [
          0,
          1966050.5263157894
         ],
         "showgrid": true,
         "showline": true,
         "showticklabels": true,
         "tickfont": {
          "color": "rgb(82, 82, 82)",
          "family": "Arial",
          "size": 12
         },
         "tickmode": "array",
         "ticks": "outside",
         "ticktext": [
          "10万",
          "20万",
          "30万",
          "40万",
          "50万",
          "60万",
          "70万",
          "80万",
          "90万",
          "100万",
          "110万",
          "120万",
          "130万",
          "140万",
          "150万",
          "160万",
          "170万",
          "180万",
          "190万",
          "200万"
         ],
         "tickvals": [
          100000,
          200000,
          300000,
          400000,
          500000,
          600000,
          700000,
          800000,
          900000,
          1000000,
          1100000,
          1200000,
          1300000,
          1400000,
          1500000,
          1600000,
          1700000,
          1800000,
          1900000,
          2000000
         ],
         "type": "linear",
         "zeroline": false
        },
        "yaxis2": {
         "anchor": "x",
         "autorange": true,
         "overlaying": "y",
         "range": [
          6.4,
          9.485913650239862
         ],
         "showgrid": false,
         "showline": false,
         "showticklabels": false,
         "side": "right",
         "type": "linear",
         "zeroline": false
        }
       }
      },
      "image/png": "[encoded data removed]",
      "text/html": [
       "<div>                            <div id=\"06a2c71c-59b1-44e5-bf9b-945fd53fc4bb\" class=\"plotly-graph-div\" style=\"height:800px; width:800px;\"></div>            <script type=\"text/javascript\">                require([\"plotly\"], function(Plotly) {                    window.PLOTLYENV=window.PLOTLYENV || {};                                    if (document.getElementById(\"06a2c71c-59b1-44e5-bf9b-945fd53fc4bb\")) {                    Plotly.newPlot(                        \"06a2c71c-59b1-44e5-bf9b-945fd53fc4bb\",                        [{\"name\":\"\\u6253\\u5206\\u4eba\\u6570\",\"opacity\":0.4,\"x\":[1999,2000,2001,2002,2003,2004,2005,2006,2007,2008,2009,2010,2011,2012,2013,2014,2015,2016,2017,2018,2019,2020,2021,2022,2023,2024,2025],\"y\":[null,692392,null,132038,null,null,null,null,331343,101810,null,1867748,null,null,null,324172,null,null,null,730326,null,null,null,null,null,null,null],\"type\":\"bar\",\"xaxis\":\"x\",\"yaxis\":\"y\"},{\"connectgaps\":true,\"marker\":{\"size\":10},\"mode\":\"lines+markers\",\"name\":\"\\u8c46\\u74e3\\u5206\\u6570\",\"x\":[1999,2000,2001,2002,2003,2004,2005,2006,2007,2008,2009,2010,2011,2012,2013,2014,2015,2016,2017,2018,2019,2020,2021,2022,2023,2024,2025],\"y\":[null,9.3,null,7.8,null,null,null,null,8.4,7.6,null,9,null,null,null,6.7,null,null,null,7,null,null,null,null,null,null,null],\"type\":\"scatter\",\"xaxis\":\"x\",\"yaxis\":\"y2\"}],                        {\"template\":{\"data\":{\"histogram2dcontour\":[{\"type\":\"histogram2dcontour\",\"colorbar\":{\"outlinewidth\":0,\"ticks\":\"\"},\"colorscale\":[[0.0,\"#0d0887\"],[0.1111111111111111,\"#46039f\"],[0.2222222222222222,\"#7201a8\"],[0.3333333333333333,\"#9c179e\"],[0.4444444444444444,\"#bd3786\"],[0.5555555555555556,\"#d8576b\"],[0.6666666666666666,\"#ed7953\"],[0.7777777777777778,\"#fb9f3a\"],[0.8888888888888888,\"#fdca26\"],[1.0,\"#f0f921\"]]}],\"choropleth\":[{\"type\":\"choropleth\",\"colorbar\":{\"outlinewidth\":0,\"ticks\":\"\"}}],\"histogram2d\":[{\"type\":\"histogram2d\",\"colorbar\":{\"outlinewidth\":0,\"ticks\":\"\"},\"colorscale\":[[0.0,\"#0d0887\"],[0.1111111111111111,\"#46039f\"],[0.2222222222222222,\"#7201a8\"],[0.3333333333333333,\"#9c179e\"],[0.4444444444444444,\"#bd3786\"],[0.5555555555555556,\"#d8576b\"],[0.6666666666666666,\"#ed7953\"],[0.7777777777777778,\"#fb9f3a\"],[0.8888888888888888,\"#fdca26\"],[1.0,\"#f0f921\"]]}],\"heatmap\":[{\"type\":\"heatmap\",\"colorbar\":{\"outlinewidth\":0,\"ticks\":\"\"},\"colorscale\":[[0.0,\"#0d0887\"],[0.1111111111111111,\"#46039f\"],[0.2222222222222222,\"#7201a8\"],[0.3333333333333333,\"#9c179e\"],[0.4444444444444444,\"#bd3786\"],[0.5555555555555556,\"#d8576b\"],[0.6666666666666666,\"#ed7953\"],[0.7777777777777778,\"#fb9f3a\"],[0.8888888888888888,\"#fdca26\"],[1.0,\"#f0f921\"]]}],\"heatmapgl\":[{\"type\":\"heatmapgl\",\"colorbar\":{\"outlinewidth\":0,\"ticks\":\"\"},\"colorscale\":[[0.0,\"#0d0887\"],[0.1111111111111111,\"#46039f\"],[0.2222222222222222,\"#7201a8\"],[0.3333333333333333,\"#9c179e\"],[0.4444444444444444,\"#bd3786\"],[0.5555555555555556,\"#d8576b\"],[0.6666666666666666,\"#ed7953\"],[0.7777777777777778,\"#fb9f3a\"],[0.8888888888888888,\"#fdca26\"],[1.0,\"#f0f921\"]]}],\"contourcarpet\":[{\"type\":\"contourcarpet\",\"colorbar\":{\"outlinewidth\":0,\"ticks\":\"\"}}],\"contour\":[{\"type\":\"contour\",\"colorbar\":{\"outlinewidth\":0,\"ticks\":\"\"},\"colorscale\":[[0.0,\"#0d0887\"],[0.1111111111111111,\"#46039f\"],[0.2222222222222222,\"#7201a8\"],[0.3333333333333333,\"#9c179e\"],[0.4444444444444444,\"#bd3786\"],[0.5555555555555556,\"#d8576b\"],[0.6666666666666666,\"#ed7953\"],[0.7777777777777778,\"#fb9f3a\"],[0.8888888888888888,\"#fdca26\"],[1.0,\"#f0f921\"]]}],\"surface\":[{\"type\":\"surface\",\"colorbar\":{\"outlinewidth\":0,\"ticks\":\"\"},\"colorscale\":[[0.0,\"#0d0887\"],[0.1111111111111111,\"#46039f\"],[0.2222222222222222,\"#7201a8\"],[0.3333333333333333,\"#9c179e\"],[0.4444444444444444,\"#bd3786\"],[0.5555555555555556,\"#d8576b\"],[0.6666666666666666,\"#ed7953\"],[0.7777777777777778,\"#fb9f3a\"],[0.8888888888888888,\"#fdca26\"],[1.0,\"#f0f921\"]]}],\"mesh3d\":[{\"type\":\"mesh3d\",\"colorbar\":{\"outlinewidth\":0,\"ticks\":\"\"}}],\"scatter\":[{\"fillpattern\":{\"fillmode\":\"overlay\",\"size\":10,\"solidity\":0.2},\"type\":\"scatter\"}],\"parcoords\":[{\"type\":\"parcoords\",\"line\":{\"colorbar\":{\"outlinewidth\":0,\"ticks\":\"\"}}}],\"scatterpolargl\":[{\"type\":\"scatterpolargl\",\"marker\":{\"colorbar\":{\"outlinewidth\":0,\"ticks\":\"\"}}}],\"bar\":[{\"error_x\":{\"color\":\"#2a3f5f\"},\"error_y\":{\"color\":\"#2a3f5f\"},\"marker\":{\"line\":{\"color\":\"#E5ECF6\",\"width\":0.5},\"pattern\":{\"fillmode\":\"overlay\",\"size\":10,\"solidity\":0.2}},\"type\":\"bar\"}],\"scattergeo\":[{\"type\":\"scattergeo\",\"marker\":{\"colorbar\":{\"outlinewidth\":0,\"ticks\":\"\"}}}],\"scatterpolar\":[{\"type\":\"scatterpolar\",\"marker\":{\"colorbar\":{\"outlinewidth\":0,\"ticks\":\"\"}}}],\"histogram\":[{\"marker\":{\"pattern\":{\"fillmode\":\"overlay\",\"size\":10,\"solidity\":0.2}},\"type\":\"histogram\"}],\"scattergl\":[{\"type\":\"scattergl\",\"marker\":{\"colorbar\":{\"outlinewidth\":0,\"ticks\":\"\"}}}],\"scatter3d\":[{\"type\":\"scatter3d\",\"line\":{\"colorbar\":{\"outlinewidth\":0,\"ticks\":\"\"}},\"marker\":{\"colorbar\":{\"outlinewidth\":0,\"ticks\":\"\"}}}],\"scattermapbox\":[{\"type\":\"scattermapbox\",\"marker\":{\"colorbar\":{\"outlinewidth\":0,\"ticks\":\"\"}}}],\"scatterternary\":[{\"type\":\"scatterternary\",\"marker\":{\"colorbar\":{\"outlinewidth\":0,\"ticks\":\"\"}}}],\"scattercarpet\":[{\"type\":\"scattercarpet\",\"marker\":{\"colorbar\":{\"outlinewidth\":0,\"ticks\":\"\"}}}],\"carpet\":[{\"aaxis\":{\"endlinecolor\":\"#2a3f5f\",\"gridcolor\":\"white\",\"linecolor\":\"white\",\"minorgridcolor\":\"white\",\"startlinecolor\":\"#2a3f5f\"},\"baxis\":{\"endlinecolor\":\"#2a3f5f\",\"gridcolor\":\"white\",\"linecolor\":\"white\",\"minorgridcolor\":\"white\",\"startlinecolor\":\"#2a3f5f\"},\"type\":\"carpet\"}],\"table\":[{\"cells\":{\"fill\":{\"color\":\"#EBF0F8\"},\"line\":{\"color\":\"white\"}},\"header\":{\"fill\":{\"color\":\"#C8D4E3\"},\"line\":{\"color\":\"white\"}},\"type\":\"table\"}],\"barpolar\":[{\"marker\":{\"line\":{\"color\":\"#E5ECF6\",\"width\":0.5},\"pattern\":{\"fillmode\":\"overlay\",\"size\":10,\"solidity\":0.2}},\"type\":\"barpolar\"}],\"pie\":[{\"automargin\":true,\"type\":\"pie\"}]},\"layout\":{\"autotypenumbers\":\"strict\",\"colorway\":[\"#636efa\",\"#EF553B\",\"#00cc96\",\"#ab63fa\",\"#FFA15A\",\"#19d3f3\",\"#FF6692\",\"#B6E880\",\"#FF97FF\",\"#FECB52\"],\"font\":{\"color\":\"#2a3f5f\"},\"hovermode\":\"closest\",\"hoverlabel\":{\"align\":\"left\"},\"paper_bgcolor\":\"white\",\"plot_bgcolor\":\"#E5ECF6\",\"polar\":{\"bgcolor\":\"#E5ECF6\",\"angularaxis\":{\"gridcolor\":\"white\",\"linecolor\":\"white\",\"ticks\":\"\"},\"radialaxis\":{\"gridcolor\":\"white\",\"linecolor\":\"white\",\"ticks\":\"\"}},\"ternary\":{\"bgcolor\":\"#E5ECF6\",\"aaxis\":{\"gridcolor\":\"white\",\"linecolor\":\"white\",\"ticks\":\"\"},\"baxis\":{\"gridcolor\":\"white\",\"linecolor\":\"white\",\"ticks\":\"\"},\"caxis\":{\"gridcolor\":\"white\",\"linecolor\":\"white\",\"ticks\":\"\"}},\"coloraxis\":{\"colorbar\":{\"outlinewidth\":0,\"ticks\":\"\"}},\"colorscale\":{\"sequential\":[[0.0,\"#0d0887\"],[0.1111111111111111,\"#46039f\"],[0.2222222222222222,\"#7201a8\"],[0.3333333333333333,\"#9c179e\"],[0.4444444444444444,\"#bd3786\"],[0.5555555555555556,\"#d8576b\"],[0.6666666666666666,\"#ed7953\"],[0.7777777777777778,\"#fb9f3a\"],[0.8888888888888888,\"#fdca26\"],[1.0,\"#f0f921\"]],\"sequentialminus\":[[0.0,\"#0d0887\"],[0.1111111111111111,\"#46039f\"],[0.2222222222222222,\"#7201a8\"],[0.3333333333333333,\"#9c179e\"],[0.4444444444444444,\"#bd3786\"],[0.5555555555555556,\"#d8576b\"],[0.6666666666666666,\"#ed7953\"],[0.7777777777777778,\"#fb9f3a\"],[0.8888888888888888,\"#fdca26\"],[1.0,\"#f0f921\"]],\"diverging\":[[0,\"#8e0152\"],[0.1,\"#c51b7d\"],[0.2,\"#de77ae\"],[0.3,\"#f1b6da\"],[0.4,\"#fde0ef\"],[0.5,\"#f7f7f7\"],[0.6,\"#e6f5d0\"],[0.7,\"#b8e186\"],[0.8,\"#7fbc41\"],[0.9,\"#4d9221\"],[1,\"#276419\"]]},\"xaxis\":{\"gridcolor\":\"white\",\"linecolor\":\"white\",\"ticks\":\"\",\"title\":{\"standoff\":15},\"zerolinecolor\":\"white\",\"automargin\":true,\"zerolinewidth\":2},\"yaxis\":{\"gridcolor\":\"white\",\"linecolor\":\"white\",\"ticks\":\"\",\"title\":{\"standoff\":15},\"zerolinecolor\":\"white\",\"automargin\":true,\"zerolinewidth\":2},\"scene\":{\"xaxis\":{\"backgroundcolor\":\"#E5ECF6\",\"gridcolor\":\"white\",\"linecolor\":\"white\",\"showbackground\":true,\"ticks\":\"\",\"zerolinecolor\":\"white\",\"gridwidth\":2},\"yaxis\":{\"backgroundcolor\":\"#E5ECF6\",\"gridcolor\":\"white\",\"linecolor\":\"white\",\"showbackground\":true,\"ticks\":\"\",\"zerolinecolor\":\"white\",\"gridwidth\":2},\"zaxis\":{\"backgroundcolor\":\"#E5ECF6\",\"gridcolor\":\"white\",\"linecolor\":\"white\",\"showbackground\":true,\"ticks\":\"\",\"zerolinecolor\":\"white\",\"gridwidth\":2}},\"shapedefaults\":{\"line\":{\"color\":\"#2a3f5f\"}},\"annotationdefaults\":{\"arrowcolor\":\"#2a3f5f\",\"arrowhead\":0,\"arrowwidth\":1},\"geo\":{\"bgcolor\":\"white\",\"landcolor\":\"#E5ECF6\",\"subunitcolor\":\"white\",\"showland\":true,\"showlakes\":true,\"lakecolor\":\"white\"},\"title\":{\"x\":0.05},\"mapbox\":{\"style\":\"light\"}}},\"xaxis\":{\"anchor\":\"y\",\"domain\":[0.0,0.94],\"tickfont\":{\"family\":\"Arial\",\"size\":12,\"color\":\"rgb(82, 82, 82)\"},\"showline\":true,\"showgrid\":false,\"showticklabels\":true,\"linecolor\":\"rgb(204, 204, 204)\",\"linewidth\":2,\"ticks\":\"outside\",\"tickmode\":\"array\",\"tickvals\":[1999,2000,2001,2002,2003,2004,2005,2006,2007,2008,2009,2010,2011,2012,2013,2014,2015,2016,2017,2018,2019,2020,2021,2022,2023,2024,2025],\"ticktext\":[\"1999\",\"2000\",\"2001\",\"2002\",\"2003\",\"2004\",\"2005\",\"2006\",\"2007\",\"2008\",\"2009\",\"2010\",\"2011\",\"2012\",\"2013\",\"2014\",\"2015\",\"2016\",\"2017\",\"2018\",\"2019\",\"2020\",\"2021\",\"2022\",\"2023\",\"2024\",\"2025\"]},\"yaxis\":{\"anchor\":\"x\",\"domain\":[0.0,1.0],\"tickfont\":{\"family\":\"Arial\",\"size\":12,\"color\":\"rgb(82, 82, 82)\"},\"showline\":true,\"zeroline\":false,\"showgrid\":true,\"showticklabels\":true,\"linecolor\":\"rgb(204, 204, 204)\",\"linewidth\":2,\"ticks\":\"outside\",\"tickmode\":\"array\",\"tickvals\":[100000,200000,300000,400000,500000,600000,700000,800000,900000,1000000,1100000,1200000,1300000,1400000,1500000,1600000,1700000,1800000,1900000,2000000],\"ticktext\":[\"10\\u4e07\",\"20\\u4e07\",\"30\\u4e07\",\"40\\u4e07\",\"50\\u4e07\",\"60\\u4e07\",\"70\\u4e07\",\"80\\u4e07\",\"90\\u4e07\",\"100\\u4e07\",\"110\\u4e07\",\"120\\u4e07\",\"130\\u4e07\",\"140\\u4e07\",\"150\\u4e07\",\"160\\u4e07\",\"170\\u4e07\",\"180\\u4e07\",\"190\\u4e07\",\"200\\u4e07\"]},\"yaxis2\":{\"anchor\":\"x\",\"overlaying\":\"y\",\"side\":\"right\",\"showgrid\":false,\"zeroline\":false,\"showline\":false,\"showticklabels\":false},\"margin\":{\"autoexpand\":false,\"l\":100,\"r\":20,\"t\":110},\"legend\":{\"font\":{\"size\":12},\"x\":1.0,\"y\":1.0,\"xanchor\":\"right\",\"yanchor\":\"top\",\"bgcolor\":\"rgba(255,255,255,0)\",\"borderwidth\":0},\"autosize\":false,\"width\":800,\"height\":800,\"showlegend\":true,\"plot_bgcolor\":\"white\",\"shapes\":[{\"line\":{\"color\":\"black\",\"dash\":\"dash\",\"width\":1},\"type\":\"line\",\"x0\":0,\"x1\":1,\"xref\":\"paper\",\"y0\":9.0,\"y1\":9.0,\"yref\":\"y2\"},{\"line\":{\"color\":\"black\",\"dash\":\"dash\",\"width\":1},\"type\":\"line\",\"x0\":0,\"x1\":1,\"xref\":\"paper\",\"y0\":8.0,\"y1\":8.0,\"yref\":\"y2\"},{\"line\":{\"color\":\"black\",\"dash\":\"dash\",\"width\":1},\"type\":\"line\",\"x0\":0,\"x1\":1,\"xref\":\"paper\",\"y0\":7.0,\"y1\":7.0,\"yref\":\"y2\"},{\"line\":{\"color\":\"black\",\"dash\":\"dash\",\"width\":1},\"type\":\"line\",\"x0\":0,\"x1\":1,\"xref\":\"paper\",\"y0\":6.5,\"y1\":6.5,\"yref\":\"y2\"}],\"annotations\":[{\"font\":{\"color\":\"black\",\"size\":11},\"showarrow\":false,\"text\":\"9.0 \\u5206\",\"x\":0.9,\"xanchor\":\"left\",\"xref\":\"paper\",\"y\":8.9,\"yanchor\":\"bottom\",\"yref\":\"y2\"},{\"font\":{\"color\":\"black\",\"size\":11},\"showarrow\":false,\"text\":\"8.0 \\u5206\",\"x\":0.9,\"xanchor\":\"left\",\"xref\":\"paper\",\"y\":7.9,\"yanchor\":\"bottom\",\"yref\":\"y2\"},{\"font\":{\"color\":\"black\",\"size\":11},\"showarrow\":false,\"text\":\"7.0 \\u5206\",\"x\":0.9,\"xanchor\":\"left\",\"xref\":\"paper\",\"y\":6.9,\"yanchor\":\"bottom\",\"yref\":\"y2\"},{\"font\":{\"color\":\"black\",\"size\":11},\"showarrow\":false,\"text\":\"6.5 \\u5206\",\"x\":0.9,\"xanchor\":\"left\",\"xref\":\"paper\",\"y\":6.4,\"yanchor\":\"bottom\",\"yref\":\"y2\"},{\"font\":{\"color\":\"black\",\"size\":15},\"showarrow\":false,\"text\":\"\\u9b3c\\u5b50\\u6765\\u4e86\",\"x\":2000,\"xanchor\":\"center\",\"xref\":\"x\",\"y\":9.3,\"yanchor\":\"bottom\",\"yref\":\"y2\",\"yshift\":5},{\"font\":{\"color\":\"black\",\"size\":15},\"showarrow\":false,\"text\":\"\\u5bfb\\u67aa\",\"x\":2002,\"xanchor\":\"center\",\"xref\":\"x\",\"y\":7.8,\"yanchor\":\"top\",\"yref\":\"y2\",\"yshift\":-5},{\"font\":{\"color\":\"black\",\"size\":15},\"showarrow\":false,\"text\":\"\\u592a\\u9633\\u7167\\u5e38\\u5347\\u8d77\",\"x\":2007,\"xanchor\":\"center\",\"xref\":\"x\",\"y\":8.4,\"yanchor\":\"bottom\",\"yref\":\"y2\",\"yshift\":5},{\"font\":{\"color\":\"black\",\"size\":15},\"showarrow\":false,\"text\":\"\\u7ebd\\u7ea6,\\u6211\\u7231\\u4f60\",\"x\":2008,\"xanchor\":\"center\",\"xref\":\"x\",\"y\":7.6,\"yanchor\":\"top\",\"yref\":\"y2\",\"yshift\":-5},{\"font\":{\"color\":\"black\",\"size\":15},\"showarrow\":false,\"text\":\"\\u8ba9\\u5b50\\u5f39\\u98de\",\"x\":2010,\"xanchor\":\"center\",\"xref\":\"x\",\"y\":9,\"yanchor\":\"bottom\",\"yref\":\"y2\",\"yshift\":5},{\"font\":{\"color\":\"black\",\"size\":15},\"showarrow\":false,\"text\":\"\\u4e00\\u6b65\\u4e4b\\u9065\",\"x\":2014,\"xanchor\":\"center\",\"xref\":\"x\",\"y\":6.7,\"yanchor\":\"top\",\"yref\":\"y2\",\"yshift\":-5},{\"font\":{\"color\":\"black\",\"size\":15},\"showarrow\":false,\"text\":\"\\u90aa\\u4e0d\\u538b\\u6b63\",\"x\":2018,\"xanchor\":\"center\",\"xref\":\"x\",\"y\":7,\"yanchor\":\"bottom\",\"yref\":\"y2\",\"yshift\":5},{\"font\":{\"color\":\"grey\",\"size\":14},\"showarrow\":false,\"text\":\"\\u6253\\u5206\\u4eba\\u6570\",\"x\":-0.05,\"xanchor\":\"left\",\"xref\":\"paper\",\"y\":1,\"yanchor\":\"bottom\",\"yref\":\"paper\"}]},                        {\"responsive\": true}                    ).then(function(){\n",
       "                            \n",
       "var gd = document.getElementById('06a2c71c-59b1-44e5-bf9b-945fd53fc4bb');\n",
       "var x = new MutationObserver(function (mutations, observer) {{\n",
       "        var display = window.getComputedStyle(gd).display;\n",
       "        if (!display || display === 'none') {{\n",
       "            console.log([gd, 'removed!']);\n",
       "            Plotly.purge(gd);\n",
       "            observer.disconnect();\n",
       "        }}\n",
       "}});\n",
       "\n",
       "// Listen for the removal of the full notebook cells\n",
       "var notebookContainer = gd.closest('#notebook-container');\n",
       "if (notebookContainer) {{\n",
       "    x.observe(notebookContainer, {childList: true});\n",
       "}}\n",
       "\n",
       "// Listen for the clearing of the current output cell\n",
       "var outputEl = gd.closest('.output');\n",
       "if (outputEl) {{\n",
       "    x.observe(outputEl, {childList: true});\n",
       "}}\n",
       "\n",
       "                        })                };                });            </script>        </div>"
      ]
     },
     "metadata": {},
     "output_type": "display_data"
    }
   ],
   "source": [
    "jiangFig1 = go.Figure([go.Bar(x=years, #[str(year) for year in years],\n",
    "                              y=people,\n",
    "                              opacity=0.4,\n",
    "                              name=\"打分人数\"\n",
    "                             )])\n",
    "\n",
    "jiangFig2 = go.Figure([go.Scatter(x=years, #[str(year) for year in years], \n",
    "                                  y=scores,\n",
    "                                  mode='lines+markers',\n",
    "                                  connectgaps=True,\n",
    "                                  marker=dict(size=10),\n",
    "                                  name=\"豆瓣分数\"\n",
    "                                  )])\n",
    "\n",
    "\n",
    "\n",
    "\n",
    "\n",
    "jiangFig = make_subplots(specs=[[{\"secondary_y\": True}]],\n",
    "                        shared_xaxes=True )\n",
    "jiangFig.add_trace(jiangFig1.data[0], secondary_y=False)\n",
    "jiangFig.add_trace(jiangFig2.data[0], secondary_y=True)\n",
    "\n",
    "jiangFig.update_layout(\n",
    "    xaxis=dict(\n",
    "        showline=True,\n",
    "        showgrid=False,\n",
    "        showticklabels=True,\n",
    "        linecolor='rgb(204, 204, 204)',\n",
    "        linewidth=2,\n",
    "        ticks='outside',\n",
    "        tickmode='array',\n",
    "        tickvals=list(range(1999, 2026)), \n",
    "        ticktext=[str(y) for y in range(1999, 2026)],\n",
    "        tickfont=dict(\n",
    "            family='Arial',\n",
    "            size=12,\n",
    "            color='rgb(82, 82, 82)',\n",
    "        ),\n",
    "    ),\n",
    "    yaxis=dict(\n",
    "        # title=dict(\n",
    "        #     text=\"打分人数\",  \n",
    "        #     font=dict(size=14, color='black'),\n",
    "        #     standoff=20  \n",
    "        # ),\n",
    "        showline=True,\n",
    "        zeroline=False,\n",
    "        showgrid=True,\n",
    "        showticklabels=True,\n",
    "        linecolor='rgb(204, 204, 204)',\n",
    "        linewidth=2,\n",
    "        ticks='outside',\n",
    "        tickmode='array',\n",
    "        tickvals=[i * 100000 for i in range(1, 21)], \n",
    "        ticktext=[f\"{i*10}万\" for i in range(1, 21)],\n",
    "        tickfont=dict(\n",
    "            family='Arial',\n",
    "            size=12,\n",
    "            color='rgb(82, 82, 82)',\n",
    "        ),\n",
    "    ),\n",
    "    # yaxis=dict(\n",
    "    #     showgrid=False,\n",
    "    #     zeroline=False,\n",
    "    #     showline=False,\n",
    "    #     showticklabels=False,\n",
    "    # ),\n",
    "    yaxis2=dict( \n",
    "        showgrid=False,\n",
    "        zeroline=False,\n",
    "        showline=False,\n",
    "        showticklabels=False,\n",
    "    ),\n",
    "    autosize=False,\n",
    "    width=800,\n",
    "    height=800,\n",
    "    margin=dict(\n",
    "        autoexpand=False,\n",
    "        l=100,\n",
    "        r=20,\n",
    "        t=110,\n",
    "    ),\n",
    "    showlegend=True, \n",
    "    legend=dict(\n",
    "        x=1.0,\n",
    "        y=1.0,\n",
    "        xanchor=\"right\",  \n",
    "        yanchor=\"top\",   \n",
    "        font=dict(size=12),\n",
    "        bgcolor=\"rgba(255,255,255,0)\",  \n",
    "        borderwidth=0\n",
    "    ),\n",
    "    plot_bgcolor='white'\n",
    ")\n",
    "\n",
    "# score reference lines\n",
    "ref_lines = [\n",
    "    (9.0, \"9.0 分\"),\n",
    "    (8.0, \"8.0 分\"),\n",
    "    (7.0, \"7.0 分\"),\n",
    "    (6.5, \"6.5 分\"),\n",
    "]\n",
    "\n",
    "# add reference lines and annotation\n",
    "for y_val, label in ref_lines:\n",
    "    jiangFig.add_shape(\n",
    "        type=\"line\",\n",
    "        x0=0,\n",
    "        x1=1,\n",
    "        xref=\"paper\",  # Horizontal line spanning the entire plot\n",
    "        y0=y_val,\n",
    "        y1=y_val,\n",
    "        yref=\"y2\",  # Right-side y-axis (used by the line chart with secondary_y=True)\n",
    "        line=dict(\n",
    "            color=\"black\",\n",
    "            width=1,\n",
    "            dash=\"dash\"\n",
    "        )\n",
    "    )\n",
    "\n",
    "    jiangFig.add_annotation(\n",
    "        x=0.9,\n",
    "        y=y_val-0.1,\n",
    "        xref=\"paper\",\n",
    "        yref=\"y2\",\n",
    "        text=label,\n",
    "        showarrow=False,\n",
    "        xanchor=\"left\",\n",
    "        yanchor=\"bottom\",\n",
    "        font=dict(size=11, color=\"black\")\n",
    "    )\n",
    "\n",
    "# people reference lines\n",
    "people_anno = [\n",
    "    (1850000, \"185万人\"),\n",
    "    (700000, \"70万人\"),\n",
    "    (500000, \"50万人\"),\n",
    "    (450000, \"45万人\"),\n",
    "    (300000, \"30万人\"),\n",
    "    (150000, \"15万人\"),\n",
    "    (100000, \"10万人\")\n",
    "]\n",
    "\n",
    "# # add people lines and annotation\n",
    "# for p_val, txt in people_lines:\n",
    "#     jiangFig.add_shape(\n",
    "#         type=\"line\",\n",
    "#         x0=0,\n",
    "#         x1=1,\n",
    "#         xref=\"paper\",  # Horizontal line spanning the entire plot\n",
    "#         y0=p_val,\n",
    "#         y1=p_val,\n",
    "#         yref=\"y1\", \n",
    "#         line=dict(\n",
    "#             color=\"black\",\n",
    "#             width=1,\n",
    "#             dash=\"dash\"\n",
    "#         )\n",
    "#     )\n",
    "\n",
    "#     jiangFig.add_annotation(\n",
    "#         x=0.01,\n",
    "#         y=p_val+0.1,\n",
    "#         xref=\"paper\",\n",
    "#         yref=\"y1\",\n",
    "#         text=txt,\n",
    "#         showarrow=False,\n",
    "#         xanchor=\"left\",\n",
    "#         yanchor=\"top\",\n",
    "#         font=dict(size=11, color=\"black\")\n",
    "#     )\n",
    "\n",
    "\n",
    "# marker name annotation\n",
    "name_anno = [\n",
    "    (2000, 9.3, \"鬼子来了\"),\n",
    "    (2002, 7.8, \"寻枪\"),\n",
    "    (2007, 8.4, \"太阳照常升起\"),\n",
    "    (2008, 7.6, \"纽约,我爱你\"),\n",
    "    (2010, 9, \"让子弹飞\"),\n",
    "    (2014, 6.7, \"一步之遥\"),\n",
    "    (2018, 7, \"邪不压正\"),\n",
    "]\n",
    "\n",
    "for yr, s, n in name_anno:\n",
    "    is_below = n in [\"寻枪\", \"纽约,我爱你\", \"一步之遥\"]\n",
    "    jiangFig.add_annotation(\n",
    "        x=yr,\n",
    "        y=s,\n",
    "        xref=\"x\",\n",
    "        yref=\"y2\",\n",
    "        text=n,\n",
    "        showarrow=False,\n",
    "        font=dict(size=15, color=\"black\"),\n",
    "        xanchor=\"center\",\n",
    "        yanchor=\"top\" if is_below else \"bottom\",\n",
    "        yshift=-5 if is_below else 5 \n",
    "    )\n",
    "\n",
    "\n",
    "jiangFig.add_annotation(\n",
    "    text=\"打分人数\",\n",
    "    xref=\"paper\", yref=\"paper\",\n",
    "    x=-0.05, y=1, \n",
    "    xanchor=\"left\",\n",
    "    yanchor=\"bottom\",\n",
    "    showarrow=False,\n",
    "    font=dict(size=14, color=\"grey\")\n",
    ")\n",
    "\n",
    "\n",
    "jiangFig.show()\n"
   ]
  },
  {
   "cell_type": "code",
   "execution_count": null,
   "id": "65d35918-ba35-40b9-979c-f9c999143743",
   "metadata": {},
   "outputs": [],
   "source": []
  },
  {
   "cell_type": "code",
   "execution_count": 146,
   "id": "3e205ba5-5b71-4a6a-be0e-755f983c4e15",
   "metadata": {},
   "outputs": [
    {
     "data": {
      "application/vnd.plotly.v1+json": {
       "config": {
        "plotlyServerURL": "https://plot.ly"
       },
       "data": [
        {
         "boxpoints": "all",
         "fillcolor": "rgba(0, 0, 0, 0)",
         "jitter": 0.4,
         "line": {
          "width": 0
         },
         "marker": {
          "color": "rgba(128,128,128,0.4)",
          "size": 6
         },
         "name": "2010",
         "pointpos": 0,
         "showlegend": false,
         "type": "box",
         "y": [
          6.5,
          6.36,
          4.17,
          2.86,
          2.3,
          1.95,
          1.57,
          1.51,
          1.44,
          1.4,
          1.3,
          1.26,
          1.24
         ]
        },
        {
         "boxpoints": "all",
         "fillcolor": "rgba(0, 0, 0, 0)",
         "jitter": 0.4,
         "line": {
          "width": 0
         },
         "marker": {
          "color": "rgba(128,128,128,0.4)",
          "size": 6
         },
         "name": "2014",
         "pointpos": 0,
         "showlegend": false,
         "type": "box",
         "y": [
          19.76,
          11.69,
          10.44,
          8.83,
          6.69,
          6.65,
          6.28,
          5.88,
          5.24,
          5.21,
          5.13,
          4.55,
          4.12,
          4.06,
          3.89,
          3.44,
          3.08,
          2.91,
          2.84,
          2.73,
          2.47,
          2.3,
          2.28,
          2.08,
          2.04,
          2.04,
          1.98,
          1.95,
          1.92,
          1.86,
          1.84,
          1.61,
          1.42,
          1.29,
          1.25,
          1.19,
          1.18,
          1.18,
          1.04,
          1
         ]
        },
        {
         "boxpoints": "all",
         "fillcolor": "rgba(0, 0, 0, 0)",
         "jitter": 0.4,
         "line": {
          "width": 0
         },
         "marker": {
          "color": "rgba(128,128,128,0.4)",
          "size": 6
         },
         "name": "2018",
         "pointpos": 0,
         "showlegend": false,
         "type": "box",
         "y": [
          36.52,
          33.97,
          31,
          25.47,
          23.9,
          22.37,
          20.13,
          18.7,
          16.95,
          13.96,
          13.61,
          13.55,
          12.73,
          12.45,
          10.53,
          9.03,
          8.31,
          7.94,
          7.54,
          7.47,
          7.27,
          6.69,
          6.62,
          6.41,
          6.33,
          6.28,
          6.06,
          6.05,
          6.04,
          5.83,
          5.55,
          5.09,
          4.97,
          4.91,
          4.8,
          4.42,
          4.27,
          3.98,
          3.75,
          3.58,
          3.57,
          3.54,
          3.17,
          3.15,
          2.85,
          2.85,
          2.82,
          2.71,
          2.67,
          2.61,
          2.34,
          2.2,
          2.16,
          2.1,
          2.09,
          2.03,
          1.91,
          1.73,
          1.72,
          1.69,
          1.68,
          1.58,
          1.53,
          1.5,
          1.49,
          1.46,
          1.31,
          1.3,
          1.27,
          1.23,
          1.14,
          1.12,
          1.12,
          1.1,
          1.06,
          1.05,
          1.04,
          1.01,
          1.01,
          1
         ]
        },
        {
         "marker": {
          "color": "red",
          "size": 10
         },
         "mode": "markers",
         "name": "让子弹飞",
         "type": "scatter",
         "x": [
          "2010"
         ],
         "y": [
          6.36
         ]
        },
        {
         "marker": {
          "color": "blue",
          "size": 10
         },
         "mode": "markers",
         "name": "一步之遥",
         "type": "scatter",
         "x": [
          "2014"
         ],
         "y": [
          5.13
         ]
        },
        {
         "marker": {
          "color": "green",
          "size": 10
         },
         "mode": "markers",
         "name": "邪不压正",
         "type": "scatter",
         "x": [
          "2018"
         ],
         "y": [
          5.83
         ]
        }
       ],
       "layout": {
        "height": 700,
        "template": {
         "data": {
          "bar": [
           {
            "error_x": {
             "color": "#2a3f5f"
            },
            "error_y": {
             "color": "#2a3f5f"
            },
            "marker": {
             "line": {
              "color": "#E5ECF6",
              "width": 0.5
             },
             "pattern": {
              "fillmode": "overlay",
              "size": 10,
              "solidity": 0.2
             }
            },
            "type": "bar"
           }
          ],
          "barpolar": [
           {
            "marker": {
             "line": {
              "color": "#E5ECF6",
              "width": 0.5
             },
             "pattern": {
              "fillmode": "overlay",
              "size": 10,
              "solidity": 0.2
             }
            },
            "type": "barpolar"
           }
          ],
          "carpet": [
           {
            "aaxis": {
             "endlinecolor": "#2a3f5f",
             "gridcolor": "white",
             "linecolor": "white",
             "minorgridcolor": "white",
             "startlinecolor": "#2a3f5f"
            },
            "baxis": {
             "endlinecolor": "#2a3f5f",
             "gridcolor": "white",
             "linecolor": "white",
             "minorgridcolor": "white",
             "startlinecolor": "#2a3f5f"
            },
            "type": "carpet"
           }
          ],
          "choropleth": [
           {
            "colorbar": {
             "outlinewidth": 0,
             "ticks": ""
            },
            "type": "choropleth"
           }
          ],
          "contour": [
           {
            "colorbar": {
             "outlinewidth": 0,
             "ticks": ""
            },
            "colorscale": [
             [
              0,
              "#0d0887"
             ],
             [
              0.1111111111111111,
              "#46039f"
             ],
             [
              0.2222222222222222,
              "#7201a8"
             ],
             [
              0.3333333333333333,
              "#9c179e"
             ],
             [
              0.4444444444444444,
              "#bd3786"
             ],
             [
              0.5555555555555556,
              "#d8576b"
             ],
             [
              0.6666666666666666,
              "#ed7953"
             ],
             [
              0.7777777777777778,
              "#fb9f3a"
             ],
             [
              0.8888888888888888,
              "#fdca26"
             ],
             [
              1,
              "#f0f921"
             ]
            ],
            "type": "contour"
           }
          ],
          "contourcarpet": [
           {
            "colorbar": {
             "outlinewidth": 0,
             "ticks": ""
            },
            "type": "contourcarpet"
           }
          ],
          "heatmap": [
           {
            "colorbar": {
             "outlinewidth": 0,
             "ticks": ""
            },
            "colorscale": [
             [
              0,
              "#0d0887"
             ],
             [
              0.1111111111111111,
              "#46039f"
             ],
             [
              0.2222222222222222,
              "#7201a8"
             ],
             [
              0.3333333333333333,
              "#9c179e"
             ],
             [
              0.4444444444444444,
              "#bd3786"
             ],
             [
              0.5555555555555556,
              "#d8576b"
             ],
             [
              0.6666666666666666,
              "#ed7953"
             ],
             [
              0.7777777777777778,
              "#fb9f3a"
             ],
             [
              0.8888888888888888,
              "#fdca26"
             ],
             [
              1,
              "#f0f921"
             ]
            ],
            "type": "heatmap"
           }
          ],
          "heatmapgl": [
           {
            "colorbar": {
             "outlinewidth": 0,
             "ticks": ""
            },
            "colorscale": [
             [
              0,
              "#0d0887"
             ],
             [
              0.1111111111111111,
              "#46039f"
             ],
             [
              0.2222222222222222,
              "#7201a8"
             ],
             [
              0.3333333333333333,
              "#9c179e"
             ],
             [
              0.4444444444444444,
              "#bd3786"
             ],
             [
              0.5555555555555556,
              "#d8576b"
             ],
             [
              0.6666666666666666,
              "#ed7953"
             ],
             [
              0.7777777777777778,
              "#fb9f3a"
             ],
             [
              0.8888888888888888,
              "#fdca26"
             ],
             [
              1,
              "#f0f921"
             ]
            ],
            "type": "heatmapgl"
           }
          ],
          "histogram": [
           {
            "marker": {
             "pattern": {
              "fillmode": "overlay",
              "size": 10,
              "solidity": 0.2
             }
            },
            "type": "histogram"
           }
          ],
          "histogram2d": [
           {
            "colorbar": {
             "outlinewidth": 0,
             "ticks": ""
            },
            "colorscale": [
             [
              0,
              "#0d0887"
             ],
             [
              0.1111111111111111,
              "#46039f"
             ],
             [
              0.2222222222222222,
              "#7201a8"
             ],
             [
              0.3333333333333333,
              "#9c179e"
             ],
             [
              0.4444444444444444,
              "#bd3786"
             ],
             [
              0.5555555555555556,
              "#d8576b"
             ],
             [
              0.6666666666666666,
              "#ed7953"
             ],
             [
              0.7777777777777778,
              "#fb9f3a"
             ],
             [
              0.8888888888888888,
              "#fdca26"
             ],
             [
              1,
              "#f0f921"
             ]
            ],
            "type": "histogram2d"
           }
          ],
          "histogram2dcontour": [
           {
            "colorbar": {
             "outlinewidth": 0,
             "ticks": ""
            },
            "colorscale": [
             [
              0,
              "#0d0887"
             ],
             [
              0.1111111111111111,
              "#46039f"
             ],
             [
              0.2222222222222222,
              "#7201a8"
             ],
             [
              0.3333333333333333,
              "#9c179e"
             ],
             [
              0.4444444444444444,
              "#bd3786"
             ],
             [
              0.5555555555555556,
              "#d8576b"
             ],
             [
              0.6666666666666666,
              "#ed7953"
             ],
             [
              0.7777777777777778,
              "#fb9f3a"
             ],
             [
              0.8888888888888888,
              "#fdca26"
             ],
             [
              1,
              "#f0f921"
             ]
            ],
            "type": "histogram2dcontour"
           }
          ],
          "mesh3d": [
           {
            "colorbar": {
             "outlinewidth": 0,
             "ticks": ""
            },
            "type": "mesh3d"
           }
          ],
          "parcoords": [
           {
            "line": {
             "colorbar": {
              "outlinewidth": 0,
              "ticks": ""
             }
            },
            "type": "parcoords"
           }
          ],
          "pie": [
           {
            "automargin": true,
            "type": "pie"
           }
          ],
          "scatter": [
           {
            "fillpattern": {
             "fillmode": "overlay",
             "size": 10,
             "solidity": 0.2
            },
            "type": "scatter"
           }
          ],
          "scatter3d": [
           {
            "line": {
             "colorbar": {
              "outlinewidth": 0,
              "ticks": ""
             }
            },
            "marker": {
             "colorbar": {
              "outlinewidth": 0,
              "ticks": ""
             }
            },
            "type": "scatter3d"
           }
          ],
          "scattercarpet": [
           {
            "marker": {
             "colorbar": {
              "outlinewidth": 0,
              "ticks": ""
             }
            },
            "type": "scattercarpet"
           }
          ],
          "scattergeo": [
           {
            "marker": {
             "colorbar": {
              "outlinewidth": 0,
              "ticks": ""
             }
            },
            "type": "scattergeo"
           }
          ],
          "scattergl": [
           {
            "marker": {
             "colorbar": {
              "outlinewidth": 0,
              "ticks": ""
             }
            },
            "type": "scattergl"
           }
          ],
          "scattermapbox": [
           {
            "marker": {
             "colorbar": {
              "outlinewidth": 0,
              "ticks": ""
             }
            },
            "type": "scattermapbox"
           }
          ],
          "scatterpolar": [
           {
            "marker": {
             "colorbar": {
              "outlinewidth": 0,
              "ticks": ""
             }
            },
            "type": "scatterpolar"
           }
          ],
          "scatterpolargl": [
           {
            "marker": {
             "colorbar": {
              "outlinewidth": 0,
              "ticks": ""
             }
            },
            "type": "scatterpolargl"
           }
          ],
          "scatterternary": [
           {
            "marker": {
             "colorbar": {
              "outlinewidth": 0,
              "ticks": ""
             }
            },
            "type": "scatterternary"
           }
          ],
          "surface": [
           {
            "colorbar": {
             "outlinewidth": 0,
             "ticks": ""
            },
            "colorscale": [
             [
              0,
              "#0d0887"
             ],
             [
              0.1111111111111111,
              "#46039f"
             ],
             [
              0.2222222222222222,
              "#7201a8"
             ],
             [
              0.3333333333333333,
              "#9c179e"
             ],
             [
              0.4444444444444444,
              "#bd3786"
             ],
             [
              0.5555555555555556,
              "#d8576b"
             ],
             [
              0.6666666666666666,
              "#ed7953"
             ],
             [
              0.7777777777777778,
              "#fb9f3a"
             ],
             [
              0.8888888888888888,
              "#fdca26"
             ],
             [
              1,
              "#f0f921"
             ]
            ],
            "type": "surface"
           }
          ],
          "table": [
           {
            "cells": {
             "fill": {
              "color": "#EBF0F8"
             },
             "line": {
              "color": "white"
             }
            },
            "header": {
             "fill": {
              "color": "#C8D4E3"
             },
             "line": {
              "color": "white"
             }
            },
            "type": "table"
           }
          ]
         },
         "layout": {
          "annotationdefaults": {
           "arrowcolor": "#2a3f5f",
           "arrowhead": 0,
           "arrowwidth": 1
          },
          "autotypenumbers": "strict",
          "coloraxis": {
           "colorbar": {
            "outlinewidth": 0,
            "ticks": ""
           }
          },
          "colorscale": {
           "diverging": [
            [
             0,
             "#8e0152"
            ],
            [
             0.1,
             "#c51b7d"
            ],
            [
             0.2,
             "#de77ae"
            ],
            [
             0.3,
             "#f1b6da"
            ],
            [
             0.4,
             "#fde0ef"
            ],
            [
             0.5,
             "#f7f7f7"
            ],
            [
             0.6,
             "#e6f5d0"
            ],
            [
             0.7,
             "#b8e186"
            ],
            [
             0.8,
             "#7fbc41"
            ],
            [
             0.9,
             "#4d9221"
            ],
            [
             1,
             "#276419"
            ]
           ],
           "sequential": [
            [
             0,
             "#0d0887"
            ],
            [
             0.1111111111111111,
             "#46039f"
            ],
            [
             0.2222222222222222,
             "#7201a8"
            ],
            [
             0.3333333333333333,
             "#9c179e"
            ],
            [
             0.4444444444444444,
             "#bd3786"
            ],
            [
             0.5555555555555556,
             "#d8576b"
            ],
            [
             0.6666666666666666,
             "#ed7953"
            ],
            [
             0.7777777777777778,
             "#fb9f3a"
            ],
            [
             0.8888888888888888,
             "#fdca26"
            ],
            [
             1,
             "#f0f921"
            ]
           ],
           "sequentialminus": [
            [
             0,
             "#0d0887"
            ],
            [
             0.1111111111111111,
             "#46039f"
            ],
            [
             0.2222222222222222,
             "#7201a8"
            ],
            [
             0.3333333333333333,
             "#9c179e"
            ],
            [
             0.4444444444444444,
             "#bd3786"
            ],
            [
             0.5555555555555556,
             "#d8576b"
            ],
            [
             0.6666666666666666,
             "#ed7953"
            ],
            [
             0.7777777777777778,
             "#fb9f3a"
            ],
            [
             0.8888888888888888,
             "#fdca26"
            ],
            [
             1,
             "#f0f921"
            ]
           ]
          },
          "colorway": [
           "#636efa",
           "#EF553B",
           "#00cc96",
           "#ab63fa",
           "#FFA15A",
           "#19d3f3",
           "#FF6692",
           "#B6E880",
           "#FF97FF",
           "#FECB52"
          ],
          "font": {
           "color": "#2a3f5f"
          },
          "geo": {
           "bgcolor": "white",
           "lakecolor": "white",
           "landcolor": "#E5ECF6",
           "showlakes": true,
           "showland": true,
           "subunitcolor": "white"
          },
          "hoverlabel": {
           "align": "left"
          },
          "hovermode": "closest",
          "mapbox": {
           "style": "light"
          },
          "paper_bgcolor": "white",
          "plot_bgcolor": "#E5ECF6",
          "polar": {
           "angularaxis": {
            "gridcolor": "white",
            "linecolor": "white",
            "ticks": ""
           },
           "bgcolor": "#E5ECF6",
           "radialaxis": {
            "gridcolor": "white",
            "linecolor": "white",
            "ticks": ""
           }
          },
          "scene": {
           "xaxis": {
            "backgroundcolor": "#E5ECF6",
            "gridcolor": "white",
            "gridwidth": 2,
            "linecolor": "white",
            "showbackground": true,
            "ticks": "",
            "zerolinecolor": "white"
           },
           "yaxis": {
            "backgroundcolor": "#E5ECF6",
            "gridcolor": "white",
            "gridwidth": 2,
            "linecolor": "white",
            "showbackground": true,
            "ticks": "",
            "zerolinecolor": "white"
           },
           "zaxis": {
            "backgroundcolor": "#E5ECF6",
            "gridcolor": "white",
            "gridwidth": 2,
            "linecolor": "white",
            "showbackground": true,
            "ticks": "",
            "zerolinecolor": "white"
           }
          },
          "shapedefaults": {
           "line": {
            "color": "#2a3f5f"
           }
          },
          "ternary": {
           "aaxis": {
            "gridcolor": "white",
            "linecolor": "white",
            "ticks": ""
           },
           "baxis": {
            "gridcolor": "white",
            "linecolor": "white",
            "ticks": ""
           },
           "bgcolor": "#E5ECF6",
           "caxis": {
            "gridcolor": "white",
            "linecolor": "white",
            "ticks": ""
           }
          },
          "title": {
           "x": 0.05
          },
          "xaxis": {
           "automargin": true,
           "gridcolor": "white",
           "linecolor": "white",
           "ticks": "",
           "title": {
            "standoff": 15
           },
           "zerolinecolor": "white",
           "zerolinewidth": 2
          },
          "yaxis": {
           "automargin": true,
           "gridcolor": "white",
           "linecolor": "white",
           "ticks": "",
           "title": {
            "standoff": 15
           },
           "zerolinecolor": "white",
           "zerolinewidth": 2
          }
         }
        },
        "width": 400,
        "xaxis": {
         "autorange": true,
         "range": [
          -0.5,
          2.5
         ],
         "tickfont": {
          "size": 12
         },
         "title": {
          "font": {
           "size": 14
          },
          "text": "年份"
         },
         "type": "category"
        },
        "yaxis": {
         "autorange": true,
         "range": [
          -0.9733333333333334,
          38.49333333333334
         ],
         "tickfont": {
          "size": 12
         },
         "title": {
          "font": {
           "size": 14
          },
          "text": "票房（亿）"
         },
         "type": "linear"
        }
       }
      },
      "image/png": "[encoded data removed]",
      "text/html": [
       "<div>                            <div id=\"b9fe6d40-4813-4146-95a4-ca9768c4bbf9\" class=\"plotly-graph-div\" style=\"height:700px; width:400px;\"></div>            <script type=\"text/javascript\">                require([\"plotly\"], function(Plotly) {                    window.PLOTLYENV=window.PLOTLYENV || {};                                    if (document.getElementById(\"b9fe6d40-4813-4146-95a4-ca9768c4bbf9\")) {                    Plotly.newPlot(                        \"b9fe6d40-4813-4146-95a4-ca9768c4bbf9\",                        [{\"boxpoints\":\"all\",\"fillcolor\":\"rgba(0,0,0,0)\",\"jitter\":0.4,\"line\":{\"width\":0},\"marker\":{\"color\":\"rgba(128,128,128,0.4)\",\"size\":6},\"name\":\"2010\",\"pointpos\":0,\"showlegend\":false,\"y\":[6.5,6.36,4.17,2.86,2.3,1.95,1.57,1.51,1.44,1.4,1.3,1.26,1.24],\"type\":\"box\"},{\"boxpoints\":\"all\",\"fillcolor\":\"rgba(0,0,0,0)\",\"jitter\":0.4,\"line\":{\"width\":0},\"marker\":{\"color\":\"rgba(128,128,128,0.4)\",\"size\":6},\"name\":\"2014\",\"pointpos\":0,\"showlegend\":false,\"y\":[19.76,11.69,10.44,8.83,6.69,6.65,6.28,5.88,5.24,5.21,5.13,4.55,4.12,4.06,3.89,3.44,3.08,2.91,2.84,2.73,2.47,2.3,2.28,2.08,2.04,2.04,1.98,1.95,1.92,1.86,1.84,1.61,1.42,1.29,1.25,1.19,1.18,1.18,1.04,1],\"type\":\"box\"},{\"boxpoints\":\"all\",\"fillcolor\":\"rgba(0,0,0,0)\",\"jitter\":0.4,\"line\":{\"width\":0},\"marker\":{\"color\":\"rgba(128,128,128,0.4)\",\"size\":6},\"name\":\"2018\",\"pointpos\":0,\"showlegend\":false,\"y\":[36.52,33.97,31,25.47,23.9,22.37,20.13,18.7,16.95,13.96,13.61,13.55,12.73,12.45,10.53,9.03,8.31,7.94,7.54,7.47,7.27,6.69,6.62,6.41,6.33,6.28,6.06,6.05,6.04,5.83,5.55,5.09,4.97,4.91,4.8,4.42,4.27,3.98,3.75,3.58,3.57,3.54,3.17,3.15,2.85,2.85,2.82,2.71,2.67,2.61,2.34,2.2,2.16,2.1,2.09,2.03,1.91,1.73,1.72,1.69,1.68,1.58,1.53,1.5,1.49,1.46,1.31,1.3,1.27,1.23,1.14,1.12,1.12,1.1,1.06,1.05,1.04,1.01,1.01,1],\"type\":\"box\"},{\"marker\":{\"color\":\"red\",\"size\":10},\"mode\":\"markers\",\"name\":\"\\u8ba9\\u5b50\\u5f39\\u98de\",\"x\":[\"2010\"],\"y\":[6.36],\"type\":\"scatter\"},{\"marker\":{\"color\":\"blue\",\"size\":10},\"mode\":\"markers\",\"name\":\"\\u4e00\\u6b65\\u4e4b\\u9065\",\"x\":[\"2014\"],\"y\":[5.13],\"type\":\"scatter\"},{\"marker\":{\"color\":\"green\",\"size\":10},\"mode\":\"markers\",\"name\":\"\\u90aa\\u4e0d\\u538b\\u6b63\",\"x\":[\"2018\"],\"y\":[5.83],\"type\":\"scatter\"}],                        {\"template\":{\"data\":{\"histogram2dcontour\":[{\"type\":\"histogram2dcontour\",\"colorbar\":{\"outlinewidth\":0,\"ticks\":\"\"},\"colorscale\":[[0.0,\"#0d0887\"],[0.1111111111111111,\"#46039f\"],[0.2222222222222222,\"#7201a8\"],[0.3333333333333333,\"#9c179e\"],[0.4444444444444444,\"#bd3786\"],[0.5555555555555556,\"#d8576b\"],[0.6666666666666666,\"#ed7953\"],[0.7777777777777778,\"#fb9f3a\"],[0.8888888888888888,\"#fdca26\"],[1.0,\"#f0f921\"]]}],\"choropleth\":[{\"type\":\"choropleth\",\"colorbar\":{\"outlinewidth\":0,\"ticks\":\"\"}}],\"histogram2d\":[{\"type\":\"histogram2d\",\"colorbar\":{\"outlinewidth\":0,\"ticks\":\"\"},\"colorscale\":[[0.0,\"#0d0887\"],[0.1111111111111111,\"#46039f\"],[0.2222222222222222,\"#7201a8\"],[0.3333333333333333,\"#9c179e\"],[0.4444444444444444,\"#bd3786\"],[0.5555555555555556,\"#d8576b\"],[0.6666666666666666,\"#ed7953\"],[0.7777777777777778,\"#fb9f3a\"],[0.8888888888888888,\"#fdca26\"],[1.0,\"#f0f921\"]]}],\"heatmap\":[{\"type\":\"heatmap\",\"colorbar\":{\"outlinewidth\":0,\"ticks\":\"\"},\"colorscale\":[[0.0,\"#0d0887\"],[0.1111111111111111,\"#46039f\"],[0.2222222222222222,\"#7201a8\"],[0.3333333333333333,\"#9c179e\"],[0.4444444444444444,\"#bd3786\"],[0.5555555555555556,\"#d8576b\"],[0.6666666666666666,\"#ed7953\"],[0.7777777777777778,\"#fb9f3a\"],[0.8888888888888888,\"#fdca26\"],[1.0,\"#f0f921\"]]}],\"heatmapgl\":[{\"type\":\"heatmapgl\",\"colorbar\":{\"outlinewidth\":0,\"ticks\":\"\"},\"colorscale\":[[0.0,\"#0d0887\"],[0.1111111111111111,\"#46039f\"],[0.2222222222222222,\"#7201a8\"],[0.3333333333333333,\"#9c179e\"],[0.4444444444444444,\"#bd3786\"],[0.5555555555555556,\"#d8576b\"],[0.6666666666666666,\"#ed7953\"],[0.7777777777777778,\"#fb9f3a\"],[0.8888888888888888,\"#fdca26\"],[1.0,\"#f0f921\"]]}],\"contourcarpet\":[{\"type\":\"contourcarpet\",\"colorbar\":{\"outlinewidth\":0,\"ticks\":\"\"}}],\"contour\":[{\"type\":\"contour\",\"colorbar\":{\"outlinewidth\":0,\"ticks\":\"\"},\"colorscale\":[[0.0,\"#0d0887\"],[0.1111111111111111,\"#46039f\"],[0.2222222222222222,\"#7201a8\"],[0.3333333333333333,\"#9c179e\"],[0.4444444444444444,\"#bd3786\"],[0.5555555555555556,\"#d8576b\"],[0.6666666666666666,\"#ed7953\"],[0.7777777777777778,\"#fb9f3a\"],[0.8888888888888888,\"#fdca26\"],[1.0,\"#f0f921\"]]}],\"surface\":[{\"type\":\"surface\",\"colorbar\":{\"outlinewidth\":0,\"ticks\":\"\"},\"colorscale\":[[0.0,\"#0d0887\"],[0.1111111111111111,\"#46039f\"],[0.2222222222222222,\"#7201a8\"],[0.3333333333333333,\"#9c179e\"],[0.4444444444444444,\"#bd3786\"],[0.5555555555555556,\"#d8576b\"],[0.6666666666666666,\"#ed7953\"],[0.7777777777777778,\"#fb9f3a\"],[0.8888888888888888,\"#fdca26\"],[1.0,\"#f0f921\"]]}],\"mesh3d\":[{\"type\":\"mesh3d\",\"colorbar\":{\"outlinewidth\":0,\"ticks\":\"\"}}],\"scatter\":[{\"fillpattern\":{\"fillmode\":\"overlay\",\"size\":10,\"solidity\":0.2},\"type\":\"scatter\"}],\"parcoords\":[{\"type\":\"parcoords\",\"line\":{\"colorbar\":{\"outlinewidth\":0,\"ticks\":\"\"}}}],\"scatterpolargl\":[{\"type\":\"scatterpolargl\",\"marker\":{\"colorbar\":{\"outlinewidth\":0,\"ticks\":\"\"}}}],\"bar\":[{\"error_x\":{\"color\":\"#2a3f5f\"},\"error_y\":{\"color\":\"#2a3f5f\"},\"marker\":{\"line\":{\"color\":\"#E5ECF6\",\"width\":0.5},\"pattern\":{\"fillmode\":\"overlay\",\"size\":10,\"solidity\":0.2}},\"type\":\"bar\"}],\"scattergeo\":[{\"type\":\"scattergeo\",\"marker\":{\"colorbar\":{\"outlinewidth\":0,\"ticks\":\"\"}}}],\"scatterpolar\":[{\"type\":\"scatterpolar\",\"marker\":{\"colorbar\":{\"outlinewidth\":0,\"ticks\":\"\"}}}],\"histogram\":[{\"marker\":{\"pattern\":{\"fillmode\":\"overlay\",\"size\":10,\"solidity\":0.2}},\"type\":\"histogram\"}],\"scattergl\":[{\"type\":\"scattergl\",\"marker\":{\"colorbar\":{\"outlinewidth\":0,\"ticks\":\"\"}}}],\"scatter3d\":[{\"type\":\"scatter3d\",\"line\":{\"colorbar\":{\"outlinewidth\":0,\"ticks\":\"\"}},\"marker\":{\"colorbar\":{\"outlinewidth\":0,\"ticks\":\"\"}}}],\"scattermapbox\":[{\"type\":\"scattermapbox\",\"marker\":{\"colorbar\":{\"outlinewidth\":0,\"ticks\":\"\"}}}],\"scatterternary\":[{\"type\":\"scatterternary\",\"marker\":{\"colorbar\":{\"outlinewidth\":0,\"ticks\":\"\"}}}],\"scattercarpet\":[{\"type\":\"scattercarpet\",\"marker\":{\"colorbar\":{\"outlinewidth\":0,\"ticks\":\"\"}}}],\"carpet\":[{\"aaxis\":{\"endlinecolor\":\"#2a3f5f\",\"gridcolor\":\"white\",\"linecolor\":\"white\",\"minorgridcolor\":\"white\",\"startlinecolor\":\"#2a3f5f\"},\"baxis\":{\"endlinecolor\":\"#2a3f5f\",\"gridcolor\":\"white\",\"linecolor\":\"white\",\"minorgridcolor\":\"white\",\"startlinecolor\":\"#2a3f5f\"},\"type\":\"carpet\"}],\"table\":[{\"cells\":{\"fill\":{\"color\":\"#EBF0F8\"},\"line\":{\"color\":\"white\"}},\"header\":{\"fill\":{\"color\":\"#C8D4E3\"},\"line\":{\"color\":\"white\"}},\"type\":\"table\"}],\"barpolar\":[{\"marker\":{\"line\":{\"color\":\"#E5ECF6\",\"width\":0.5},\"pattern\":{\"fillmode\":\"overlay\",\"size\":10,\"solidity\":0.2}},\"type\":\"barpolar\"}],\"pie\":[{\"automargin\":true,\"type\":\"pie\"}]},\"layout\":{\"autotypenumbers\":\"strict\",\"colorway\":[\"#636efa\",\"#EF553B\",\"#00cc96\",\"#ab63fa\",\"#FFA15A\",\"#19d3f3\",\"#FF6692\",\"#B6E880\",\"#FF97FF\",\"#FECB52\"],\"font\":{\"color\":\"#2a3f5f\"},\"hovermode\":\"closest\",\"hoverlabel\":{\"align\":\"left\"},\"paper_bgcolor\":\"white\",\"plot_bgcolor\":\"#E5ECF6\",\"polar\":{\"bgcolor\":\"#E5ECF6\",\"angularaxis\":{\"gridcolor\":\"white\",\"linecolor\":\"white\",\"ticks\":\"\"},\"radialaxis\":{\"gridcolor\":\"white\",\"linecolor\":\"white\",\"ticks\":\"\"}},\"ternary\":{\"bgcolor\":\"#E5ECF6\",\"aaxis\":{\"gridcolor\":\"white\",\"linecolor\":\"white\",\"ticks\":\"\"},\"baxis\":{\"gridcolor\":\"white\",\"linecolor\":\"white\",\"ticks\":\"\"},\"caxis\":{\"gridcolor\":\"white\",\"linecolor\":\"white\",\"ticks\":\"\"}},\"coloraxis\":{\"colorbar\":{\"outlinewidth\":0,\"ticks\":\"\"}},\"colorscale\":{\"sequential\":[[0.0,\"#0d0887\"],[0.1111111111111111,\"#46039f\"],[0.2222222222222222,\"#7201a8\"],[0.3333333333333333,\"#9c179e\"],[0.4444444444444444,\"#bd3786\"],[0.5555555555555556,\"#d8576b\"],[0.6666666666666666,\"#ed7953\"],[0.7777777777777778,\"#fb9f3a\"],[0.8888888888888888,\"#fdca26\"],[1.0,\"#f0f921\"]],\"sequentialminus\":[[0.0,\"#0d0887\"],[0.1111111111111111,\"#46039f\"],[0.2222222222222222,\"#7201a8\"],[0.3333333333333333,\"#9c179e\"],[0.4444444444444444,\"#bd3786\"],[0.5555555555555556,\"#d8576b\"],[0.6666666666666666,\"#ed7953\"],[0.7777777777777778,\"#fb9f3a\"],[0.8888888888888888,\"#fdca26\"],[1.0,\"#f0f921\"]],\"diverging\":[[0,\"#8e0152\"],[0.1,\"#c51b7d\"],[0.2,\"#de77ae\"],[0.3,\"#f1b6da\"],[0.4,\"#fde0ef\"],[0.5,\"#f7f7f7\"],[0.6,\"#e6f5d0\"],[0.7,\"#b8e186\"],[0.8,\"#7fbc41\"],[0.9,\"#4d9221\"],[1,\"#276419\"]]},\"xaxis\":{\"gridcolor\":\"white\",\"linecolor\":\"white\",\"ticks\":\"\",\"title\":{\"standoff\":15},\"zerolinecolor\":\"white\",\"automargin\":true,\"zerolinewidth\":2},\"yaxis\":{\"gridcolor\":\"white\",\"linecolor\":\"white\",\"ticks\":\"\",\"title\":{\"standoff\":15},\"zerolinecolor\":\"white\",\"automargin\":true,\"zerolinewidth\":2},\"scene\":{\"xaxis\":{\"backgroundcolor\":\"#E5ECF6\",\"gridcolor\":\"white\",\"linecolor\":\"white\",\"showbackground\":true,\"ticks\":\"\",\"zerolinecolor\":\"white\",\"gridwidth\":2},\"yaxis\":{\"backgroundcolor\":\"#E5ECF6\",\"gridcolor\":\"white\",\"linecolor\":\"white\",\"showbackground\":true,\"ticks\":\"\",\"zerolinecolor\":\"white\",\"gridwidth\":2},\"zaxis\":{\"backgroundcolor\":\"#E5ECF6\",\"gridcolor\":\"white\",\"linecolor\":\"white\",\"showbackground\":true,\"ticks\":\"\",\"zerolinecolor\":\"white\",\"gridwidth\":2}},\"shapedefaults\":{\"line\":{\"color\":\"#2a3f5f\"}},\"annotationdefaults\":{\"arrowcolor\":\"#2a3f5f\",\"arrowhead\":0,\"arrowwidth\":1},\"geo\":{\"bgcolor\":\"white\",\"landcolor\":\"#E5ECF6\",\"subunitcolor\":\"white\",\"showland\":true,\"showlakes\":true,\"lakecolor\":\"white\"},\"title\":{\"x\":0.05},\"mapbox\":{\"style\":\"light\"}}},\"yaxis\":{\"tickfont\":{\"size\":12},\"title\":{\"text\":\"\\u7968\\u623f\\uff08\\u4ebf\\uff09\",\"font\":{\"size\":14}}},\"xaxis\":{\"tickfont\":{\"size\":12},\"title\":{\"text\":\"\\u5e74\\u4efd\",\"font\":{\"size\":14}}},\"width\":400,\"height\":700},                        {\"responsive\": true}                    ).then(function(){\n",
       "                            \n",
       "var gd = document.getElementById('b9fe6d40-4813-4146-95a4-ca9768c4bbf9');\n",
       "var x = new MutationObserver(function (mutations, observer) {{\n",
       "        var display = window.getComputedStyle(gd).display;\n",
       "        if (!display || display === 'none') {{\n",
       "            console.log([gd, 'removed!']);\n",
       "            Plotly.purge(gd);\n",
       "            observer.disconnect();\n",
       "        }}\n",
       "}});\n",
       "\n",
       "// Listen for the removal of the full notebook cells\n",
       "var notebookContainer = gd.closest('#notebook-container');\n",
       "if (notebookContainer) {{\n",
       "    x.observe(notebookContainer, {childList: true});\n",
       "}}\n",
       "\n",
       "// Listen for the clearing of the current output cell\n",
       "var outputEl = gd.closest('.output');\n",
       "if (outputEl) {{\n",
       "    x.observe(outputEl, {childList: true});\n",
       "}}\n",
       "\n",
       "                        })                };                });            </script>        </div>"
      ]
     },
     "metadata": {},
     "output_type": "display_data"
    }
   ],
   "source": [
    "fig = go.Figure()\n",
    "\n",
    "# 添加三组点-only box（strip-like）\n",
    "fig.add_trace(go.Box(\n",
    "    y=Y2010box,\n",
    "    name='2010',\n",
    "    boxpoints='all',\n",
    "    jitter=0.4,\n",
    "    pointpos=0,\n",
    "    marker=dict(size=6, color='rgba(128,128,128,0.4)'), \n",
    "    line=dict(width=0),\n",
    "    fillcolor='rgba(0,0,0,0)',\n",
    "    showlegend=False\n",
    "))\n",
    "\n",
    "fig.add_trace(go.Box(\n",
    "    y=Y2014box,\n",
    "    name='2014',\n",
    "    boxpoints='all',\n",
    "    jitter=0.4,\n",
    "    pointpos=0,\n",
    "    marker=dict(size=6, color='rgba(128,128,128,0.4)'), \n",
    "    line=dict(width=0),\n",
    "    fillcolor='rgba(0,0,0,0)',\n",
    "    showlegend=False\n",
    "))\n",
    "\n",
    "fig.add_trace(go.Box(\n",
    "    y=Y2018box,\n",
    "    name='2018',\n",
    "    boxpoints='all',\n",
    "    jitter=0.4,\n",
    "    pointpos=0,\n",
    "    marker=dict(size=6, color='rgba(128,128,128,0.4)'), \n",
    "    line=dict(width=0),\n",
    "    fillcolor='rgba(0,0,0,0)',\n",
    "    showlegend=False\n",
    "))\n",
    "\n",
    "highlight_data = [\n",
    "    (\"2010\", 6.36, \"让子弹飞\", \"red\"),\n",
    "    (\"2014\", 5.13, \"一步之遥\", \"blue\"),\n",
    "    (\"2018\", 5.83, \"邪不压正\", \"green\")\n",
    "]\n",
    "\n",
    "for year, value, title, color in highlight_data:\n",
    "    fig.add_trace(go.Scatter(\n",
    "        x=[year],\n",
    "        y=[value],\n",
    "        mode='markers',\n",
    "        marker=dict(color=color, size=10),\n",
    "        name=title  \n",
    "    ))\n",
    "\n",
    "\n",
    "fig.update_layout(\n",
    "    yaxis=dict(\n",
    "        title=\"票房（亿）\",\n",
    "        tickfont=dict(size=12),\n",
    "        titlefont=dict(size=14),\n",
    "    ),\n",
    "    xaxis=dict(\n",
    "        title=\"年份\",\n",
    "        tickfont=dict(size=12),\n",
    "        titlefont=dict(size=14),\n",
    "    ),\n",
    "    #plot_bgcolor=\"white\",\n",
    "    width=400,\n",
    "    height=700\n",
    ")\n",
    "\n",
    "fig.show()"
   ]
  },
  {
   "cell_type": "code",
   "execution_count": null,
   "id": "e9a3eb89-3f50-498b-a4cb-9f916c366fa0",
   "metadata": {},
   "outputs": [],
   "source": []
  },
  {
   "cell_type": "code",
   "execution_count": null,
   "id": "1f1a6fb5-e99a-4043-8126-9edd40c932ee",
   "metadata": {},
   "outputs": [],
   "source": []
  },
  {
   "cell_type": "code",
   "execution_count": null,
   "id": "336ce53d-4e2b-4d16-b4b6-453dd79e260a",
   "metadata": {},
   "outputs": [],
   "source": []
  }
 ],
 "metadata": {
  "kernelspec": {
   "display_name": "Python 3 (ipykernel)",
   "language": "python",
   "name": "python3"
  },
  "language_info": {
   "codemirror_mode": {
    "name": "ipython",
    "version": 3
   },
   "file_extension": ".py",
   "mimetype": "text/x-python",
   "name": "python",
   "nbconvert_exporter": "python",
   "pygments_lexer": "ipython3",
   "version": "3.11.10"
  }
 },
 "nbformat": 4,
 "nbformat_minor": 5
}
